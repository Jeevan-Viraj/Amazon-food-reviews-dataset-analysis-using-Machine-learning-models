{
 "cells": [
  {
   "cell_type": "markdown",
   "metadata": {},
   "source": [
    "# OBJECTIVE:"
   ]
  },
  {
   "cell_type": "markdown",
   "metadata": {},
   "source": [
    "# To apply K-nearest neighbor on Amazon reviews"
   ]
  },
  {
   "cell_type": "code",
   "execution_count": 1,
   "metadata": {},
   "outputs": [
    {
     "data": {
      "text/html": [
       "<div>\n",
       "<style scoped>\n",
       "    .dataframe tbody tr th:only-of-type {\n",
       "        vertical-align: middle;\n",
       "    }\n",
       "\n",
       "    .dataframe tbody tr th {\n",
       "        vertical-align: top;\n",
       "    }\n",
       "\n",
       "    .dataframe thead th {\n",
       "        text-align: right;\n",
       "    }\n",
       "</style>\n",
       "<table border=\"1\" class=\"dataframe\">\n",
       "  <thead>\n",
       "    <tr style=\"text-align: right;\">\n",
       "      <th></th>\n",
       "      <th>Id</th>\n",
       "      <th>ProductId</th>\n",
       "      <th>UserId</th>\n",
       "      <th>ProfileName</th>\n",
       "      <th>HelpfulnessNumerator</th>\n",
       "      <th>HelpfulnessDenominator</th>\n",
       "      <th>Score</th>\n",
       "      <th>Time</th>\n",
       "      <th>Summary</th>\n",
       "      <th>Text</th>\n",
       "    </tr>\n",
       "  </thead>\n",
       "  <tbody>\n",
       "    <tr>\n",
       "      <th>0</th>\n",
       "      <td>1</td>\n",
       "      <td>B001E4KFG0</td>\n",
       "      <td>A3SGXH7AUHU8GW</td>\n",
       "      <td>delmartian</td>\n",
       "      <td>1</td>\n",
       "      <td>1</td>\n",
       "      <td>5</td>\n",
       "      <td>1303862400</td>\n",
       "      <td>Good Quality Dog Food</td>\n",
       "      <td>I have bought several of the Vitality canned d...</td>\n",
       "    </tr>\n",
       "    <tr>\n",
       "      <th>1</th>\n",
       "      <td>2</td>\n",
       "      <td>B00813GRG4</td>\n",
       "      <td>A1D87F6ZCVE5NK</td>\n",
       "      <td>dll pa</td>\n",
       "      <td>0</td>\n",
       "      <td>0</td>\n",
       "      <td>1</td>\n",
       "      <td>1346976000</td>\n",
       "      <td>Not as Advertised</td>\n",
       "      <td>Product arrived labeled as Jumbo Salted Peanut...</td>\n",
       "    </tr>\n",
       "    <tr>\n",
       "      <th>2</th>\n",
       "      <td>3</td>\n",
       "      <td>B000LQOCH0</td>\n",
       "      <td>ABXLMWJIXXAIN</td>\n",
       "      <td>Natalia Corres \"Natalia Corres\"</td>\n",
       "      <td>1</td>\n",
       "      <td>1</td>\n",
       "      <td>4</td>\n",
       "      <td>1219017600</td>\n",
       "      <td>\"Delight\" says it all</td>\n",
       "      <td>This is a confection that has been around a fe...</td>\n",
       "    </tr>\n",
       "    <tr>\n",
       "      <th>3</th>\n",
       "      <td>4</td>\n",
       "      <td>B000UA0QIQ</td>\n",
       "      <td>A395BORC6FGVXV</td>\n",
       "      <td>Karl</td>\n",
       "      <td>3</td>\n",
       "      <td>3</td>\n",
       "      <td>2</td>\n",
       "      <td>1307923200</td>\n",
       "      <td>Cough Medicine</td>\n",
       "      <td>If you are looking for the secret ingredient i...</td>\n",
       "    </tr>\n",
       "    <tr>\n",
       "      <th>4</th>\n",
       "      <td>5</td>\n",
       "      <td>B006K2ZZ7K</td>\n",
       "      <td>A1UQRSCLF8GW1T</td>\n",
       "      <td>Michael D. Bigham \"M. Wassir\"</td>\n",
       "      <td>0</td>\n",
       "      <td>0</td>\n",
       "      <td>5</td>\n",
       "      <td>1350777600</td>\n",
       "      <td>Great taffy</td>\n",
       "      <td>Great taffy at a great price.  There was a wid...</td>\n",
       "    </tr>\n",
       "  </tbody>\n",
       "</table>\n",
       "</div>"
      ],
      "text/plain": [
       "   Id   ProductId          UserId                      ProfileName  \\\n",
       "0   1  B001E4KFG0  A3SGXH7AUHU8GW                       delmartian   \n",
       "1   2  B00813GRG4  A1D87F6ZCVE5NK                           dll pa   \n",
       "2   3  B000LQOCH0   ABXLMWJIXXAIN  Natalia Corres \"Natalia Corres\"   \n",
       "3   4  B000UA0QIQ  A395BORC6FGVXV                             Karl   \n",
       "4   5  B006K2ZZ7K  A1UQRSCLF8GW1T    Michael D. Bigham \"M. Wassir\"   \n",
       "\n",
       "   HelpfulnessNumerator  HelpfulnessDenominator  Score        Time  \\\n",
       "0                     1                       1      5  1303862400   \n",
       "1                     0                       0      1  1346976000   \n",
       "2                     1                       1      4  1219017600   \n",
       "3                     3                       3      2  1307923200   \n",
       "4                     0                       0      5  1350777600   \n",
       "\n",
       "                 Summary                                               Text  \n",
       "0  Good Quality Dog Food  I have bought several of the Vitality canned d...  \n",
       "1      Not as Advertised  Product arrived labeled as Jumbo Salted Peanut...  \n",
       "2  \"Delight\" says it all  This is a confection that has been around a fe...  \n",
       "3         Cough Medicine  If you are looking for the secret ingredient i...  \n",
       "4            Great taffy  Great taffy at a great price.  There was a wid...  "
      ]
     },
     "execution_count": 1,
     "metadata": {},
     "output_type": "execute_result"
    }
   ],
   "source": [
    "import pandas as pd\n",
    "data=pd.read_csv('Reviews.csv')\n",
    "data.head()"
   ]
  },
  {
   "cell_type": "code",
   "execution_count": 2,
   "metadata": {},
   "outputs": [],
   "source": [
    "# Functions to use and retireve files \n",
    "import pickle\n",
    "def savetofile(obj,filename):\n",
    "   pickle.dump(obj,open(filename,\"wb\"))\n",
    "def openfromfile(filename):\n",
    "   temp = pickle.load(open(filename,\"rb\"))\n",
    "   return temp"
   ]
  },
  {
   "cell_type": "code",
   "execution_count": 3,
   "metadata": {},
   "outputs": [],
   "source": [
    "#Loading the variable from file\n",
    "final_100000 = openfromfile(\"f_string.pickle\")"
   ]
  },
  {
   "cell_type": "code",
   "execution_count": 4,
   "metadata": {},
   "outputs": [
    {
     "data": {
      "text/html": [
       "<div>\n",
       "<style scoped>\n",
       "    .dataframe tbody tr th:only-of-type {\n",
       "        vertical-align: middle;\n",
       "    }\n",
       "\n",
       "    .dataframe tbody tr th {\n",
       "        vertical-align: top;\n",
       "    }\n",
       "\n",
       "    .dataframe thead th {\n",
       "        text-align: right;\n",
       "    }\n",
       "</style>\n",
       "<table border=\"1\" class=\"dataframe\">\n",
       "  <thead>\n",
       "    <tr style=\"text-align: right;\">\n",
       "      <th></th>\n",
       "      <th>Id</th>\n",
       "      <th>ProductId</th>\n",
       "      <th>UserId</th>\n",
       "      <th>ProfileName</th>\n",
       "      <th>HelpfulnessNumerator</th>\n",
       "      <th>HelpfulnessDenominator</th>\n",
       "      <th>Score</th>\n",
       "      <th>Time</th>\n",
       "      <th>Summary</th>\n",
       "      <th>Text</th>\n",
       "      <th>CleanedText</th>\n",
       "    </tr>\n",
       "  </thead>\n",
       "  <tbody>\n",
       "    <tr>\n",
       "      <th>0</th>\n",
       "      <td>150524</td>\n",
       "      <td>0006641040</td>\n",
       "      <td>ACITT7DI6IDDL</td>\n",
       "      <td>shari zychinski</td>\n",
       "      <td>0</td>\n",
       "      <td>0</td>\n",
       "      <td>pos</td>\n",
       "      <td>939340800</td>\n",
       "      <td>EVERY book is educational</td>\n",
       "      <td>this witty little book makes my son laugh at l...</td>\n",
       "      <td>witti littl book make son laugh loud recit car...</td>\n",
       "    </tr>\n",
       "    <tr>\n",
       "      <th>1</th>\n",
       "      <td>150501</td>\n",
       "      <td>0006641040</td>\n",
       "      <td>AJ46FKXOVC7NR</td>\n",
       "      <td>Nicholas A Mesiano</td>\n",
       "      <td>2</td>\n",
       "      <td>2</td>\n",
       "      <td>pos</td>\n",
       "      <td>940809600</td>\n",
       "      <td>This whole series is great way to spend time w...</td>\n",
       "      <td>I can remember seeing the show when it aired o...</td>\n",
       "      <td>rememb see show air televis year ago child sis...</td>\n",
       "    </tr>\n",
       "    <tr>\n",
       "      <th>2</th>\n",
       "      <td>451856</td>\n",
       "      <td>B00004CXX9</td>\n",
       "      <td>AIUWLEQ1ADEG5</td>\n",
       "      <td>Elizabeth Medina</td>\n",
       "      <td>0</td>\n",
       "      <td>0</td>\n",
       "      <td>pos</td>\n",
       "      <td>944092800</td>\n",
       "      <td>Entertainingl Funny!</td>\n",
       "      <td>Beetlejuice is a well written movie ..... ever...</td>\n",
       "      <td>beetlejuic well written movi everyth excel act...</td>\n",
       "    </tr>\n",
       "    <tr>\n",
       "      <th>3</th>\n",
       "      <td>374359</td>\n",
       "      <td>B00004CI84</td>\n",
       "      <td>A344SMIA5JECGM</td>\n",
       "      <td>Vincent P. Ross</td>\n",
       "      <td>1</td>\n",
       "      <td>2</td>\n",
       "      <td>pos</td>\n",
       "      <td>944438400</td>\n",
       "      <td>A modern day fairy tale</td>\n",
       "      <td>A twist of rumplestiskin captured on film, sta...</td>\n",
       "      <td>twist rumplestiskin captur film star michael k...</td>\n",
       "    </tr>\n",
       "    <tr>\n",
       "      <th>4</th>\n",
       "      <td>451855</td>\n",
       "      <td>B00004CXX9</td>\n",
       "      <td>AJH6LUC1UT1ON</td>\n",
       "      <td>The Phantom of the Opera</td>\n",
       "      <td>0</td>\n",
       "      <td>0</td>\n",
       "      <td>pos</td>\n",
       "      <td>946857600</td>\n",
       "      <td>FANTASTIC!</td>\n",
       "      <td>Beetlejuice is an excellent and funny movie. K...</td>\n",
       "      <td>beetlejuic excel funni movi keaton hilari wack...</td>\n",
       "    </tr>\n",
       "  </tbody>\n",
       "</table>\n",
       "</div>"
      ],
      "text/plain": [
       "       Id   ProductId          UserId               ProfileName  \\\n",
       "0  150524  0006641040   ACITT7DI6IDDL           shari zychinski   \n",
       "1  150501  0006641040   AJ46FKXOVC7NR        Nicholas A Mesiano   \n",
       "2  451856  B00004CXX9   AIUWLEQ1ADEG5          Elizabeth Medina   \n",
       "3  374359  B00004CI84  A344SMIA5JECGM           Vincent P. Ross   \n",
       "4  451855  B00004CXX9   AJH6LUC1UT1ON  The Phantom of the Opera   \n",
       "\n",
       "   HelpfulnessNumerator  HelpfulnessDenominator Score       Time  \\\n",
       "0                     0                       0   pos  939340800   \n",
       "1                     2                       2   pos  940809600   \n",
       "2                     0                       0   pos  944092800   \n",
       "3                     1                       2   pos  944438400   \n",
       "4                     0                       0   pos  946857600   \n",
       "\n",
       "                                             Summary  \\\n",
       "0                          EVERY book is educational   \n",
       "1  This whole series is great way to spend time w...   \n",
       "2                               Entertainingl Funny!   \n",
       "3                            A modern day fairy tale   \n",
       "4                                         FANTASTIC!   \n",
       "\n",
       "                                                Text  \\\n",
       "0  this witty little book makes my son laugh at l...   \n",
       "1  I can remember seeing the show when it aired o...   \n",
       "2  Beetlejuice is a well written movie ..... ever...   \n",
       "3  A twist of rumplestiskin captured on film, sta...   \n",
       "4  Beetlejuice is an excellent and funny movie. K...   \n",
       "\n",
       "                                         CleanedText  \n",
       "0  witti littl book make son laugh loud recit car...  \n",
       "1  rememb see show air televis year ago child sis...  \n",
       "2  beetlejuic well written movi everyth excel act...  \n",
       "3  twist rumplestiskin captur film star michael k...  \n",
       "4  beetlejuic excel funni movi keaton hilari wack...  "
      ]
     },
     "execution_count": 4,
     "metadata": {},
     "output_type": "execute_result"
    }
   ],
   "source": [
    "#taking 60k points only out of 100K points\n",
    "final_60000=final_100000[0:60000]\n",
    "final_60000.head()"
   ]
  },
  {
   "cell_type": "code",
   "execution_count": 5,
   "metadata": {},
   "outputs": [
    {
     "data": {
      "text/plain": [
       "pos    49772\n",
       "neg    10228\n",
       "Name: Score, dtype: int64"
      ]
     },
     "execution_count": 5,
     "metadata": {},
     "output_type": "execute_result"
    }
   ],
   "source": [
    "final_60000['Score'].value_counts()"
   ]
  },
  {
   "cell_type": "code",
   "execution_count": 6,
   "metadata": {},
   "outputs": [
    {
     "data": {
      "text/plain": [
       "(60000, 11)"
      ]
     },
     "execution_count": 6,
     "metadata": {},
     "output_type": "execute_result"
    }
   ],
   "source": [
    "#Making the index from 0 to en\n",
    "final_60000= final_60000.reset_index(drop=True)\n",
    "final_60000.shape"
   ]
  },
  {
   "cell_type": "code",
   "execution_count": 7,
   "metadata": {},
   "outputs": [],
   "source": [
    "#In the Score column, assigning positive as 1 and negative as 0\n",
    "def pos_neg(x):\n",
    "    if x == 'pos':\n",
    "        return 1\n",
    "    return 0\n",
    "final_60000['Score'] = final_60000['Score'].map(pos_neg)"
   ]
  },
  {
   "cell_type": "code",
   "execution_count": 8,
   "metadata": {},
   "outputs": [],
   "source": [
    "savetofile(final_60000,\"f1_string.pickle\")"
   ]
  },
  {
   "cell_type": "code",
   "execution_count": 9,
   "metadata": {},
   "outputs": [],
   "source": [
    "final_60000 = openfromfile(\"f1_string.pickle\")"
   ]
  },
  {
   "cell_type": "code",
   "execution_count": 11,
   "metadata": {},
   "outputs": [
    {
     "data": {
      "image/png": "[encoded data removed]",
      "text/plain": [
       "<Figure size 432x288 with 1 Axes>"
      ]
     },
     "metadata": {},
     "output_type": "display_data"
    },
    {
     "data": {
      "text/plain": [
       "1    49772\n",
       "0    10228\n",
       "Name: Score, dtype: int64"
      ]
     },
     "execution_count": 11,
     "metadata": {},
     "output_type": "execute_result"
    }
   ],
   "source": [
    "import seaborn as sns\n",
    "import matplotlib.pyplot as plt\n",
    "ax=plt.axes()\n",
    "sns.countplot(final_60000.Score,ax=ax)\n",
    "plt.title(\"Scores\")\n",
    "plt.show()\n",
    "final_60000['Score'].value_counts()"
   ]
  },
  {
   "cell_type": "code",
   "execution_count": 12,
   "metadata": {},
   "outputs": [
    {
     "name": "stdout",
     "output_type": "stream",
     "text": [
      "(36000,)\n",
      "(12000,)\n",
      "(12000,)\n",
      "(36000,)\n",
      "(12000,)\n",
      "(12000,)\n"
     ]
    }
   ],
   "source": [
    "#storing cleanedtext into x and Score into y\n",
    "x = final_60000['CleanedText']\n",
    "y = final_60000['Score']\n",
    "#Splitting the data into train and test data\n",
    "from sklearn.model_selection import train_test_split\n",
    "X_train, X_test, Y_train, Y_test = train_test_split(x, y, test_size=0.2, shuffle=False)\n",
    "#splitting train data as train as 60% and  cross_validation as 20% and test data as 20%\n",
    "x_tr, x_cv, y_tr, y_cv = train_test_split(X_train, Y_train, test_size=0.25,shuffle=False)\n",
    "print(x_tr.shape)\n",
    "print(x_cv.shape)\n",
    "print(X_test.shape)\n",
    "print(y_tr.shape)\n",
    "print(y_cv.shape)\n",
    "print(Y_test.shape)"
   ]
  },
  {
   "cell_type": "markdown",
   "metadata": {},
   "source": [
    "# 1.BOW:"
   ]
  },
  {
   "cell_type": "code",
   "execution_count": 14,
   "metadata": {},
   "outputs": [],
   "source": [
    "#Bag of words:\n",
    "from sklearn.feature_extraction.text import CountVectorizer\n",
    "count_vect = CountVectorizer()\n",
    "#vectorizing the train data,cross validate data and test data.\n",
    "bow = count_vect.fit_transform(x_tr)\n",
    "bow1 = count_vect.transform(x_cv)\n",
    "bow2 = count_vect.transform(X_test)\n",
    "#preprocessing the train data,cross validate data and test data.\n",
    "from sklearn import preprocessing\n",
    "Tr_BOW_X = preprocessing.normalize(bow)\n",
    "CV_BOW_X = preprocessing.normalize(bow1)\n",
    "Te_BOW_X = preprocessing.normalize(bow2)"
   ]
  },
  {
   "cell_type": "code",
   "execution_count": 18,
   "metadata": {},
   "outputs": [],
   "source": [
    "savetofile(Tr_BOW_X,\"Tr1_BOW_X.pickle\")\n",
    "savetofile(CV_BOW_X,\"CV1_BOW_X.pickle\")\n",
    "savetofile(Te_BOW_X,\"Te1_BOW_X.pickle\")"
   ]
  },
  {
   "cell_type": "code",
   "execution_count": 17,
   "metadata": {},
   "outputs": [
    {
     "name": "stdout",
     "output_type": "stream",
     "text": [
      "(36000, 26440)\n",
      "(12000, 26440)\n",
      "(12000, 26440)\n"
     ]
    }
   ],
   "source": [
    "print(Tr_BOW_X.shape)\n",
    "print(CV_BOW_X.shape)\n",
    "print(Te_BOW_X.shape)"
   ]
  },
  {
   "cell_type": "markdown",
   "metadata": {},
   "source": [
    "# 1.1.Brute Force Algorithm:"
   ]
  },
  {
   "cell_type": "code",
   "execution_count": 21,
   "metadata": {},
   "outputs": [
    {
     "name": "stdout",
     "output_type": "stream",
     "text": [
      "5,0.90759926867\n",
      "10,0.911411271542\n",
      "15,0.911651021535\n",
      "20,0.911180581096\n",
      "25,0.909956947879\n",
      "30,0.910223525101\n",
      "35,0.909698078683\n",
      "40,0.909981236557\n",
      "45,0.909057672973\n",
      "f1_score on cross validate data: [0.90759926867001073, 0.91141127154168611, 0.9116510215350635, 0.9111805810959912, 0.90995694787945403, 0.91022352510076954, 0.90969807868252506, 0.90998123655667928, 0.90905767297322004]\n",
      "Accuracy on test data for n nearest neighbours: 80.2583333333\n"
     ]
    }
   ],
   "source": [
    "from sklearn.neighbors import KNeighborsClassifier\n",
    "from sklearn.metrics import f1_score\n",
    "from sklearn.metrics import accuracy_score\n",
    "f1_score_=[]\n",
    "acc_score = []\n",
    "#Taking nearest neighbors as 5,10,15,20,25,30......50\n",
    "neigh = list(range(5,50,5))\n",
    "#finding the optimal k using maximum f1_score value\n",
    "for k in neigh:\n",
    "    print(k,end=',') \n",
    "    pred = []\n",
    "    knn = KNeighborsClassifier(n_neighbors=k,algorithm='brute')\n",
    "    knn.fit(Tr_BOW_X, y_tr)\n",
    "    #taking cross validate data in intervals of 500 for prediction\n",
    "    for i in range(0,CV_BOW_X.shape[0], 500):\n",
    "        t = CV_BOW_X[i:i+500]\n",
    "        pred1 = knn.predict(t)\n",
    "        pred.extend(pred1) \n",
    "    k= f1_score(y_cv,pred)\n",
    "    print(k)\n",
    "    f1_score_.append(k)\n",
    "#list of f1_scores for respective nearest neighbors    \n",
    "print(\"f1_score on cross validate data:\",f1_score_)\n",
    "#finding accuracy on test data with predicted values\n",
    "accuracy = accuracy_score(Y_test, pred)\n",
    "print(\"Accuracy on test data for n nearest neighbours:\",accuracy * 100)"
   ]
  },
  {
   "cell_type": "code",
   "execution_count": 24,
   "metadata": {},
   "outputs": [
    {
     "name": "stdout",
     "output_type": "stream",
     "text": [
      "maximum f1 score value 0.911651021535\n",
      "best f1 score index value: 2\n",
      "optimal k value: 15\n"
     ]
    }
   ],
   "source": [
    "#finding the optimal k using maximum f1_score value\n",
    "print(\"maximum f1 score value\",max(f1_score_))\n",
    "#finding the index value of f1_score value which is maximum\n",
    "a=f1_score_.index(max(f1_score_)) \n",
    "print(\"best f1 score index value:\",a)\n",
    "#optimal k value index is same as maximum f1 score index value\n",
    "optimal_k=neigh[a]\n",
    "print(\"optimal k value:\",optimal_k)"
   ]
  },
  {
   "cell_type": "code",
   "execution_count": 25,
   "metadata": {},
   "outputs": [
    {
     "name": "stdout",
     "output_type": "stream",
     "text": [
      "Accuracy on test data: 81.4083333333\n"
     ]
    }
   ],
   "source": [
    "#Using optimal k value to find accuracy on test data\n",
    "knn_optimal = KNeighborsClassifier(n_neighbors  = optimal_k,algorithm='brute')\n",
    "knn_optimal.fit(Tr_BOW_X, y_tr)\n",
    "pred1 = []\n",
    "for i in range(0,Te_BOW_X.shape[0],200):\n",
    "    y = Te_BOW_X[i:i+200]\n",
    "    pred = knn_optimal.predict(y)\n",
    "    pred1.extend(pred)\n",
    "accuracy = accuracy_score(Y_test, pred1)\n",
    "print(\"Accuracy on test data:\",accuracy * 100)"
   ]
  },
  {
   "cell_type": "code",
   "execution_count": 26,
   "metadata": {},
   "outputs": [
    {
     "name": "stdout",
     "output_type": "stream",
     "text": [
      "Accuracy on test set: 81.408%\n",
      "Precision on test set: 0.815\n",
      "Recall on test set: 0.994\n",
      "F1-Score on test set: 0.896\n",
      "Confusion Matrix of test set:\n",
      " [ [TN  FP]\n",
      " [FN TP] ]\n",
      "\n"
     ]
    },
    {
     "data": {
      "text/plain": [
       "<matplotlib.axes._subplots.AxesSubplot at 0x1d631009320>"
      ]
     },
     "execution_count": 26,
     "metadata": {},
     "output_type": "execute_result"
    },
    {
     "data": {
      "image/png": "[encoded data removed]",
      "text/plain": [
       "<Figure size 432x288 with 2 Axes>"
      ]
     },
     "metadata": {},
     "output_type": "display_data"
    }
   ],
   "source": [
    "#Using optimal k value to find accuracy,precision,recall,f1_score on test data\n",
    "from sklearn.metrics import accuracy_score\n",
    "from sklearn.metrics import confusion_matrix\n",
    "from sklearn.metrics import precision_score\n",
    "from sklearn.metrics import recall_score\n",
    "from sklearn.metrics import f1_score\n",
    "print(\"Accuracy on test set: %0.3f%%\"%(accuracy_score(Y_test, pred1)*100))\n",
    "print(\"Precision on test set: %0.3f\"%(precision_score(Y_test, pred1)))\n",
    "print(\"Recall on test set: %0.3f\"%(recall_score(Y_test, pred1)))\n",
    "print(\"F1-Score on test set: %0.3f\"%(f1_score(Y_test, pred1)))\n",
    "print(\"Confusion Matrix of test set:\\n [ [TN  FP]\\n [FN TP] ]\\n\")\n",
    "df_cm = pd.DataFrame(confusion_matrix(Y_test,pred1), range(2),range(2))\n",
    "sns.set(font_scale=1.4)#for label size\n",
    "sns.heatmap(df_cm, annot=True,annot_kws={\"size\": 16}, fmt='g')"
   ]
  },
  {
   "cell_type": "markdown",
   "metadata": {},
   "source": [
    "# 1.2.kd-tree Algorithm:"
   ]
  },
  {
   "cell_type": "code",
   "execution_count": 27,
   "metadata": {},
   "outputs": [
    {
     "name": "stdout",
     "output_type": "stream",
     "text": [
      "(36000, 300)\n",
      "(12000, 300)\n",
      "(12000, 300)\n"
     ]
    }
   ],
   "source": [
    "#conversting sparse data into dense data\n",
    "from sklearn.decomposition import TruncatedSVD\n",
    "svd = TruncatedSVD(n_components=300, n_iter=5)\n",
    "dense_Tr_BOW_X=svd.fit_transform(Tr_BOW_X)  \n",
    "dense_CV_BOW_X=svd.transform(CV_BOW_X)  \n",
    "dense_Te_BOW_X=svd.transform(Te_BOW_X)\n",
    "print(dense_Tr_BOW_X.shape)\n",
    "print(dense_CV_BOW_X.shape)\n",
    "print(dense_Te_BOW_X.shape)"
   ]
  },
  {
   "cell_type": "code",
   "execution_count": 28,
   "metadata": {},
   "outputs": [],
   "source": [
    "savetofile(dense_Tr_BOW_X,\"Tr2_BOW_X.pickle\")\n",
    "savetofile(dense_CV_BOW_X,\"CV2_BOW_X.pickle\")\n",
    "savetofile(dense_Te_BOW_X,\"Te2_BOW_X.pickle\")"
   ]
  },
  {
   "cell_type": "code",
   "execution_count": null,
   "metadata": {},
   "outputs": [],
   "source": [
    "dense_Tr_BOW_X = openfromfile(\"Tr2_BOW_X.pickle\")\n",
    "dense_CV_BOW_X = openfromfile(\"CV2_BOW_X.pickle\")\n",
    "dense_Te_BOW_X= openfromfile(\"Te2_BOW_X.pickle\")"
   ]
  },
  {
   "cell_type": "code",
   "execution_count": 29,
   "metadata": {},
   "outputs": [
    {
     "name": "stdout",
     "output_type": "stream",
     "text": [
      "5,0.887606175794\n",
      "10,0.898588289748\n",
      "15,0.903926329775\n",
      "20,0.904690002288\n",
      "25,0.905787840058\n",
      "30,0.906278517978\n",
      "35,0.906570607815\n",
      "40,0.906388217592\n",
      "45,0.906704343467\n",
      "f1_score on cross validate data: [0.88760617579426526, 0.89858828974774363, 0.90392632977504928, 0.90469000228780605, 0.90578784005842605, 0.90627851797773318, 0.90657060781542109, 0.90638821759153709, 0.90670434346656947]\n",
      "Accuracy on test data for n nearest neighbours: 80.4\n"
     ]
    }
   ],
   "source": [
    "from sklearn.neighbors import KNeighborsClassifier\n",
    "from sklearn.metrics import f1_score\n",
    "from sklearn.metrics import accuracy_score\n",
    "f1_score_=[]\n",
    "acc_score = []\n",
    "#Taking nearest neighbors as 5,10,15,20,25,30......50\n",
    "neigh = list(range(5,50,5))\n",
    "#finding the optimal k using maximum f1_score value\n",
    "for k in neigh:\n",
    "    print(k,end=',') \n",
    "    pred = []\n",
    "    knn = KNeighborsClassifier(n_neighbors=k,algorithm='kd_tree')\n",
    "    knn.fit(dense_Tr_BOW_X, y_tr)\n",
    "    #taking cross validate data in intervals of 500 for prediction\n",
    "    for i in range(0,dense_CV_BOW_X.shape[0], 500):\n",
    "        t = dense_CV_BOW_X[i:i+500]\n",
    "        pred1 = knn.predict(t)\n",
    "        pred.extend(pred1)\n",
    "    k= f1_score(y_cv,pred)\n",
    "    print(k)\n",
    "    f1_score_.append(k) \n",
    "#list of f1_scores for respective nearest neighbors    \n",
    "print(\"f1_score on cross validate data:\",f1_score_) \n",
    "#finding accuracy on test data with predicted values\n",
    "accuracy = accuracy_score(Y_test, pred)\n",
    "print(\"Accuracy on test data for n nearest neighbours:\",accuracy * 100)"
   ]
  },
  {
   "cell_type": "code",
   "execution_count": 30,
   "metadata": {},
   "outputs": [
    {
     "name": "stdout",
     "output_type": "stream",
     "text": [
      "maximum f1 score value 0.906704343467\n",
      "best f1 score index value: 8\n",
      "optimal k value: 45\n"
     ]
    }
   ],
   "source": [
    "#finding the optimal k using maximum f1_score value\n",
    "print(\"maximum f1 score value\",max(f1_score_))\n",
    "#finding the index value of f1_score value which is maximum\n",
    "a=f1_score_.index(max(f1_score_)) \n",
    "print(\"best f1 score index value:\",a)\n",
    "#optimal k value index is same as maximum f1 score index value\n",
    "optimal_k=neigh[a]\n",
    "print(\"optimal k value:\",optimal_k)"
   ]
  },
  {
   "cell_type": "code",
   "execution_count": 31,
   "metadata": {},
   "outputs": [
    {
     "name": "stdout",
     "output_type": "stream",
     "text": [
      "Accuracy on test data: 79.5916666667\n"
     ]
    }
   ],
   "source": [
    "#Using optimal k value to find accuracy on test data\n",
    "knn_optimal = KNeighborsClassifier(n_neighbors  = optimal_k,algorithm='kd_tree')\n",
    "knn_optimal.fit(dense_Tr_BOW_X, y_tr)\n",
    "pred1 = []\n",
    "for i in range(0,dense_Te_BOW_X.shape[0],200):\n",
    "    y = dense_Te_BOW_X[i:i+200]\n",
    "    pred = knn_optimal.predict(y)\n",
    "    pred1.extend(pred)\n",
    "accuracy = accuracy_score(Y_test, pred1)\n",
    "print(\"Accuracy on test data:\",accuracy * 100)"
   ]
  },
  {
   "cell_type": "code",
   "execution_count": 32,
   "metadata": {},
   "outputs": [
    {
     "name": "stdout",
     "output_type": "stream",
     "text": [
      "Accuracy on test set: 79.592%\n",
      "Precision on test set: 0.804\n",
      "Recall on test set: 0.987\n",
      "F1-Score on test set: 0.886\n",
      "Confusion Matrix of test set:\n",
      " [ [TN  FP]\n",
      " [FN TP] ]\n",
      "\n"
     ]
    },
    {
     "data": {
      "text/plain": [
       "<matplotlib.axes._subplots.AxesSubplot at 0x1d630258860>"
      ]
     },
     "execution_count": 32,
     "metadata": {},
     "output_type": "execute_result"
    },
    {
     "data": {
      "image/png": "[encoded data removed]",
      "text/plain": [
       "<Figure size 432x288 with 2 Axes>"
      ]
     },
     "metadata": {},
     "output_type": "display_data"
    }
   ],
   "source": [
    "#Using optimal k value to find accuracy,precision,recall,f1_score on test data\n",
    "from sklearn.metrics import accuracy_score\n",
    "from sklearn.metrics import confusion_matrix\n",
    "from sklearn.metrics import precision_score\n",
    "from sklearn.metrics import recall_score\n",
    "from sklearn.metrics import f1_score\n",
    "print(\"Accuracy on test set: %0.3f%%\"%(accuracy_score(Y_test, pred1)*100))\n",
    "print(\"Precision on test set: %0.3f\"%(precision_score(Y_test, pred1)))\n",
    "print(\"Recall on test set: %0.3f\"%(recall_score(Y_test, pred1)))\n",
    "print(\"F1-Score on test set: %0.3f\"%(f1_score(Y_test, pred1)))\n",
    "print(\"Confusion Matrix of test set:\\n [ [TN  FP]\\n [FN TP] ]\\n\")\n",
    "df_cm = pd.DataFrame(confusion_matrix(Y_test,pred1), range(2),range(2))\n",
    "sns.set(font_scale=1.4)#for label size\n",
    "sns.heatmap(df_cm, annot=True,annot_kws={\"size\": 16}, fmt='g')"
   ]
  },
  {
   "cell_type": "markdown",
   "metadata": {},
   "source": [
    "# 2.TF-IDF:"
   ]
  },
  {
   "cell_type": "code",
   "execution_count": 16,
   "metadata": {},
   "outputs": [],
   "source": [
    "from sklearn.feature_extraction.text import TfidfTransformer\n",
    "from sklearn.feature_extraction.text import TfidfVectorizer\n",
    "tfidf = TfidfVectorizer(ngram_range=(1,2))\n",
    "#vectorizing the train data,cross validate data and test data.\n",
    "tfidf1 = tfidf.fit_transform(x_tr)\n",
    "tfidf2 = tfidf.transform(x_cv)\n",
    "tfidf3 = tfidf.transform(X_test)\n",
    "#preprocessing the train data,cross validate data and test data.\n",
    "from sklearn import preprocessing\n",
    "Tr_TFIDF_X = preprocessing.normalize(tfidf1)\n",
    "CV_TFIDF_X = preprocessing.normalize(tfidf2)\n",
    "Te_TFIDF_X = preprocessing.normalize(tfidf3)"
   ]
  },
  {
   "cell_type": "code",
   "execution_count": 17,
   "metadata": {},
   "outputs": [],
   "source": [
    "savetofile(Tr_TFIDF_X,\"Tr1_TFIDF_X.pickle\")\n",
    "savetofile(CV_TFIDF_X,\"CV1_TFIDF_X.pickle\")\n",
    "savetofile(Te_TFIDF_X,\"Te1_TFIDF_X.pickle\")"
   ]
  },
  {
   "cell_type": "code",
   "execution_count": 33,
   "metadata": {},
   "outputs": [],
   "source": [
    "Tr_TFIDF_X = openfromfile(\"Tr1_TFIDF_X.pickle\")\n",
    "CV_TFIDF_X = openfromfile(\"CV1_TFIDF_X.pickle\")\n",
    "Te_TFIDF_X= openfromfile(\"Te1_TFIDF_X.pickle\")"
   ]
  },
  {
   "cell_type": "code",
   "execution_count": 34,
   "metadata": {},
   "outputs": [
    {
     "name": "stdout",
     "output_type": "stream",
     "text": [
      "(36000, 573320)\n",
      "(12000, 573320)\n",
      "(12000, 573320)\n"
     ]
    }
   ],
   "source": [
    "print(Tr_TFIDF_X.shape)\n",
    "print(CV_TFIDF_X.shape)\n",
    "print(Te_TFIDF_X.shape)"
   ]
  },
  {
   "cell_type": "markdown",
   "metadata": {},
   "source": [
    "# 2.1.Brute Force Algorithm:"
   ]
  },
  {
   "cell_type": "code",
   "execution_count": 35,
   "metadata": {},
   "outputs": [
    {
     "name": "stdout",
     "output_type": "stream",
     "text": [
      "5,0.910204272426\n",
      "10,0.912762294701\n",
      "15,0.912177393385\n",
      "20,0.912317807715\n",
      "25,0.911449262077\n",
      "30,0.911198680352\n",
      "35,0.910421813524\n",
      "40,0.910979907547\n",
      "45,0.91046277666\n",
      "f1_score on cross validate data: [0.91020427242555979, 0.91276229470060022, 0.91217739338455173, 0.91231780771529725, 0.91144926207718402, 0.91119868035190599, 0.9104218135236527, 0.91097990754725633, 0.91046277665995978]\n",
      "Accuracy on test data for n nearest neighbours: 80.1916666667\n"
     ]
    }
   ],
   "source": [
    "from sklearn.neighbors import KNeighborsClassifier\n",
    "from sklearn.metrics import f1_score\n",
    "from sklearn.metrics import accuracy_score\n",
    "f1_score_=[]\n",
    "acc_score = []\n",
    "#Taking nearest neighbors as 5,10,15,20,25,30......50\n",
    "neigh = list(range(5,50,5))\n",
    "#finding the optimal k using maximum f1_score value\n",
    "for k in neigh:\n",
    "    print(k,end=',') \n",
    "    pred = []\n",
    "    knn = KNeighborsClassifier(n_neighbors=k,algorithm='brute')\n",
    "    knn.fit(Tr_TFIDF_X, y_tr)\n",
    "    #taking cross validate data in intervals of 500 for prediction\n",
    "    for i in range(0,CV_TFIDF_X.shape[0], 500):\n",
    "        t = CV_TFIDF_X[i:i+500]\n",
    "        pred1 = knn.predict(t)\n",
    "        pred.extend(pred1)\n",
    "    k= f1_score(y_cv,pred)\n",
    "    print(k)\n",
    "    f1_score_.append(k)\n",
    "#list of f1_scores for respective nearest neighbors    \n",
    "print(\"f1_score on cross validate data:\",f1_score_)\n",
    "#finding accuracy on test data with predicted values\n",
    "accuracy = accuracy_score(Y_test, pred)\n",
    "print(\"Accuracy on test data for n nearest neighbours:\",accuracy * 100)"
   ]
  },
  {
   "cell_type": "code",
   "execution_count": 36,
   "metadata": {},
   "outputs": [
    {
     "name": "stdout",
     "output_type": "stream",
     "text": [
      "maximum f1 score value 0.912762294701\n",
      "best f1 score index value: 1\n",
      "optimal k value: 10\n"
     ]
    }
   ],
   "source": [
    "#finding the optimal k using maximum f1_score value\n",
    "print(\"maximum f1 score value\",max(f1_score_))\n",
    "#finding the index value of f1_score value which is maximum\n",
    "a=f1_score_.index(max(f1_score_)) \n",
    "print(\"best f1 score index value:\",a)\n",
    "#optimal k value index is same as maximum f1 score index value\n",
    "optimal_k=neigh[a]\n",
    "print(\"optimal k value:\",optimal_k)"
   ]
  },
  {
   "cell_type": "code",
   "execution_count": 37,
   "metadata": {},
   "outputs": [
    {
     "name": "stdout",
     "output_type": "stream",
     "text": [
      "Accuracy on test data: 81.725\n"
     ]
    }
   ],
   "source": [
    "#Using optimal k value to find accuracy on test data\n",
    "knn_optimal = KNeighborsClassifier(n_neighbors  = optimal_k,algorithm='brute')\n",
    "knn_optimal.fit(Tr_TFIDF_X,y_tr)\n",
    "pred1 = []\n",
    "for i in range(0,Te_TFIDF_X.shape[0],200):\n",
    "    y = Te_TFIDF_X[i:i+200]\n",
    "    pred = knn_optimal.predict(y)\n",
    "    pred1.extend(pred)\n",
    "accuracy = accuracy_score(Y_test, pred1)\n",
    "print(\"Accuracy on test data:\",accuracy * 100)"
   ]
  },
  {
   "cell_type": "code",
   "execution_count": 38,
   "metadata": {},
   "outputs": [
    {
     "name": "stdout",
     "output_type": "stream",
     "text": [
      "Accuracy on test set: 81.725%\n",
      "Precision on test set: 0.823\n",
      "Recall on test set: 0.985\n",
      "F1-Score on test set: 0.897\n",
      "Confusion Matrix of test set:\n",
      " [ [TN  FP]\n",
      " [FN TP] ]\n",
      "\n"
     ]
    },
    {
     "data": {
      "text/plain": [
       "<matplotlib.axes._subplots.AxesSubplot at 0x1d634279d30>"
      ]
     },
     "execution_count": 38,
     "metadata": {},
     "output_type": "execute_result"
    },
    {
     "data": {
      "image/png": "[encoded data removed]",
      "text/plain": [
       "<Figure size 432x288 with 2 Axes>"
      ]
     },
     "metadata": {},
     "output_type": "display_data"
    }
   ],
   "source": [
    "#Using optimal k value to find accuracy,precision,recall,f1_score on test data\n",
    "from sklearn.metrics import accuracy_score\n",
    "from sklearn.metrics import confusion_matrix\n",
    "from sklearn.metrics import precision_score\n",
    "from sklearn.metrics import recall_score\n",
    "from sklearn.metrics import f1_score\n",
    "print(\"Accuracy on test set: %0.3f%%\"%(accuracy_score(Y_test, pred1)*100))\n",
    "print(\"Precision on test set: %0.3f\"%(precision_score(Y_test, pred1)))\n",
    "print(\"Recall on test set: %0.3f\"%(recall_score(Y_test, pred1)))\n",
    "print(\"F1-Score on test set: %0.3f\"%(f1_score(Y_test, pred1)))\n",
    "print(\"Confusion Matrix of test set:\\n [ [TN  FP]\\n [FN TP] ]\\n\")\n",
    "df_cm = pd.DataFrame(confusion_matrix(Y_test,pred1), range(2),range(2))\n",
    "sns.set(font_scale=1.4)#for label size\n",
    "sns.heatmap(df_cm, annot=True,annot_kws={\"size\": 16}, fmt='g')"
   ]
  },
  {
   "cell_type": "markdown",
   "metadata": {},
   "source": [
    "# 2.2.kd-tree Algorithm:"
   ]
  },
  {
   "cell_type": "code",
   "execution_count": 39,
   "metadata": {},
   "outputs": [
    {
     "name": "stdout",
     "output_type": "stream",
     "text": [
      "(36000, 300)\n",
      "(12000, 300)\n",
      "(12000, 300)\n"
     ]
    }
   ],
   "source": [
    "#conversting sparse data into dense data\n",
    "from sklearn.decomposition import TruncatedSVD\n",
    "svd = TruncatedSVD(n_components=300, n_iter=5)\n",
    "dense_Tr_TFIDF_X=svd.fit_transform(Tr_TFIDF_X)  \n",
    "dense_CV_TFIDF_X=svd.transform(CV_TFIDF_X)  \n",
    "dense_Te_TFIDF_X=svd.transform(Te_TFIDF_X)\n",
    "print(dense_Tr_TFIDF_X.shape)\n",
    "print(dense_CV_TFIDF_X.shape)\n",
    "print(dense_Te_TFIDF_X.shape)"
   ]
  },
  {
   "cell_type": "code",
   "execution_count": 40,
   "metadata": {},
   "outputs": [],
   "source": [
    "savetofile(dense_Tr_TFIDF_X,\"dense_Tr_TFIDF_X.pickle\")\n",
    "savetofile(dense_CV_TFIDF_X,\"dense_CV_TFIDF_X.pickle\")\n",
    "savetofile(dense_Te_TFIDF_X,\"dense_Te_TFIDF_X.pickle\")"
   ]
  },
  {
   "cell_type": "code",
   "execution_count": 41,
   "metadata": {},
   "outputs": [],
   "source": [
    "dense_Tr_TFIDF_X = openfromfile(\"dense_Tr_TFIDF_X.pickle\")\n",
    "dense_CV_TFIDF_X = openfromfile(\"dense_CV_TFIDF_X.pickle\")\n",
    "dense_Te_TFIDF_X= openfromfile(\"dense_Te_TFIDF_X.pickle\")"
   ]
  },
  {
   "cell_type": "code",
   "execution_count": 43,
   "metadata": {},
   "outputs": [
    {
     "name": "stdout",
     "output_type": "stream",
     "text": [
      "5,0.876114965312\n",
      "10,0.888330307685\n",
      "15,0.90030738175\n",
      "20,0.9008942903\n",
      "25,0.904107085751\n",
      "30,0.904065783463\n",
      "35,0.905192079569\n",
      "40,0.905150782426\n",
      "45,0.906040574424\n",
      "f1_score on cross validate data: [0.87611496531219035, 0.88833030768514643, 0.90030738174978209, 0.9008942903003897, 0.90410708575083376, 0.90406578346276845, 0.9051920795693037, 0.90515078242620572, 0.90604057442443575]\n",
      "Accuracy on test data for n nearest neighbours: 80.4\n"
     ]
    }
   ],
   "source": [
    "from sklearn.neighbors import KNeighborsClassifier\n",
    "from sklearn.metrics import f1_score\n",
    "from sklearn.metrics import accuracy_score\n",
    "f1_score_=[]\n",
    "acc_score = []\n",
    "#Taking nearest neighbors as 5,10,15,20,25,30......50\n",
    "neigh = list(range(5,50,5))\n",
    "#finding the optimal k using maximum f1_score value\n",
    "for k in neigh:\n",
    "    print(k,end=',') \n",
    "    pred = []\n",
    "    knn = KNeighborsClassifier(n_neighbors=k,algorithm='kd_tree')\n",
    "    knn.fit(dense_Tr_TFIDF_X, y_tr)\n",
    "    #taking cross validate data in intervals of 500 for prediction\n",
    "    for i in range(0,dense_CV_TFIDF_X.shape[0], 500):\n",
    "        t = dense_CV_TFIDF_X[i:i+500]\n",
    "        pred1 = knn.predict(t)\n",
    "        pred.extend(pred1)\n",
    "    k= f1_score(y_cv,pred)\n",
    "    print(k)\n",
    "    f1_score_.append(k) \n",
    "#list of f1_scores for respective nearest neighbors    \n",
    "print(\"f1_score on cross validate data:\",f1_score_) \n",
    "#finding accuracy on test data with predicted values\n",
    "accuracy = accuracy_score(Y_test, pred)\n",
    "print(\"Accuracy on test data for n nearest neighbours:\",accuracy * 100)"
   ]
  },
  {
   "cell_type": "code",
   "execution_count": 44,
   "metadata": {},
   "outputs": [
    {
     "name": "stdout",
     "output_type": "stream",
     "text": [
      "maximum f1 score value 0.906040574424\n",
      "best f1 score index value: 8\n",
      "optimal k value: 45\n"
     ]
    }
   ],
   "source": [
    "#finding the optimal k using maximum f1_score value\n",
    "print(\"maximum f1 score value\",max(f1_score_))\n",
    "#finding the index value of f1_score value which is maximum\n",
    "a=f1_score_.index(max(f1_score_)) \n",
    "print(\"best f1 score index value:\",a)\n",
    "#optimal k value index is same as maximum f1 score index value\n",
    "optimal_k=neigh[a]\n",
    "print(\"optimal k value:\",optimal_k)"
   ]
  },
  {
   "cell_type": "code",
   "execution_count": 45,
   "metadata": {},
   "outputs": [
    {
     "name": "stdout",
     "output_type": "stream",
     "text": [
      "Accuracy on test data: 80.4416666667\n"
     ]
    }
   ],
   "source": [
    "#Using optimal k value to find accuracy on test data\n",
    "knn_optimal = KNeighborsClassifier(n_neighbors  = optimal_k,algorithm='kd_tree')\n",
    "knn_optimal.fit(dense_Tr_TFIDF_X,y_tr)\n",
    "pred1 = []\n",
    "for i in range(0,dense_Te_TFIDF_X.shape[0],200):\n",
    "    y = dense_Te_TFIDF_X[i:i+200]\n",
    "    pred = knn_optimal.predict(y)\n",
    "    pred1.extend(pred)\n",
    "accuracy = accuracy_score(Y_test, pred1)\n",
    "print(\"Accuracy on test data:\",accuracy * 100)"
   ]
  },
  {
   "cell_type": "code",
   "execution_count": 46,
   "metadata": {},
   "outputs": [
    {
     "name": "stdout",
     "output_type": "stream",
     "text": [
      "Accuracy on test set: 80.442%\n",
      "Precision on test set: 0.805\n",
      "Recall on test set: 0.999\n",
      "F1-Score on test set: 0.892\n",
      "Confusion Matrix of test set:\n",
      " [ [TN  FP]\n",
      " [FN TP] ]\n",
      "\n"
     ]
    },
    {
     "data": {
      "text/plain": [
       "<matplotlib.axes._subplots.AxesSubplot at 0x1d632f60f28>"
      ]
     },
     "execution_count": 46,
     "metadata": {},
     "output_type": "execute_result"
    },
    {
     "data": {
      "image/png": "[encoded data removed]",
      "text/plain": [
       "<Figure size 432x288 with 2 Axes>"
      ]
     },
     "metadata": {},
     "output_type": "display_data"
    }
   ],
   "source": [
    "#Using optimal k value to find accuracy,precision,recall,f1_score on test data\n",
    "from sklearn.metrics import accuracy_score\n",
    "from sklearn.metrics import confusion_matrix\n",
    "from sklearn.metrics import precision_score\n",
    "from sklearn.metrics import recall_score\n",
    "from sklearn.metrics import f1_score\n",
    "print(\"Accuracy on test set: %0.3f%%\"%(accuracy_score(Y_test, pred1)*100))\n",
    "print(\"Precision on test set: %0.3f\"%(precision_score(Y_test, pred1)))\n",
    "print(\"Recall on test set: %0.3f\"%(recall_score(Y_test, pred1)))\n",
    "print(\"F1-Score on test set: %0.3f\"%(f1_score(Y_test, pred1)))\n",
    "print(\"Confusion Matrix of test set:\\n [ [TN  FP]\\n [FN TP] ]\\n\")\n",
    "df_cm = pd.DataFrame(confusion_matrix(Y_test,pred1), range(2),range(2))\n",
    "sns.set(font_scale=1.4)#for label size\n",
    "sns.heatmap(df_cm, annot=True,annot_kws={\"size\": 16}, fmt='g')"
   ]
  },
  {
   "cell_type": "markdown",
   "metadata": {},
   "source": [
    "# 3.Avg-W2V:"
   ]
  },
  {
   "cell_type": "code",
   "execution_count": 13,
   "metadata": {},
   "outputs": [],
   "source": [
    "# converting train data into avg_w2vec data\n",
    "list_of_sent_tr=[]\n",
    "for sent in x_tr.values:\n",
    "    list_of_sent_tr.append(sent.split())"
   ]
  },
  {
   "cell_type": "code",
   "execution_count": 15,
   "metadata": {},
   "outputs": [
    {
     "name": "stdout",
     "output_type": "stream",
     "text": [
      "8053\n"
     ]
    }
   ],
   "source": [
    "#training w2vec model on train data\n",
    "import gensim\n",
    "from gensim.models import Word2Vec\n",
    "w2v_model_tr=gensim.models.Word2Vec(list_of_sent_tr,min_count=5,size=50, workers=4)\n",
    "words_tr = list(w2v_model_tr.wv.vocab)\n",
    "print(len(words_tr))"
   ]
  },
  {
   "cell_type": "code",
   "execution_count": 90,
   "metadata": {},
   "outputs": [
    {
     "name": "stdout",
     "output_type": "stream",
     "text": [
      "36000\n",
      "50\n"
     ]
    }
   ],
   "source": [
    "#finding avg w2v of train data\n",
    "sent_vectors_tr = []; \n",
    "for sent in list_of_sent_tr:\n",
    "    sent_vec = np.zeros(50) \n",
    "    cnt_words =0; \n",
    "    for word in sent:\n",
    "        try:\n",
    "            vec = w2v_model_tr.wv[word]\n",
    "            sent_vec += vec\n",
    "            cnt_words += 1\n",
    "        except:\n",
    "            pass\n",
    "    sent_vec /= cnt_words\n",
    "    sent_vectors_tr.append(sent_vec)\n",
    "print(len(sent_vectors_tr))\n",
    "print(len(sent_vectors_tr[0]))"
   ]
  },
  {
   "cell_type": "code",
   "execution_count": 98,
   "metadata": {},
   "outputs": [
    {
     "name": "stdout",
     "output_type": "stream",
     "text": [
      "standardized data shape is (36000, 50)\n"
     ]
    }
   ],
   "source": [
    "#preprocessing avg w2v of train data\n",
    "from sklearn import preprocessing\n",
    "avg_w2v_tr=preprocessing.scale(sent_vectors_tr)\n",
    "print(\"standardized data shape is\",avg_w2v_tr.shape)"
   ]
  },
  {
   "cell_type": "code",
   "execution_count": 99,
   "metadata": {},
   "outputs": [],
   "source": [
    "import pickle \n",
    "def savetofile(obj,filename):\n",
    "    pickle.dump(obj,open(filename,\"wb\"))    \n",
    "def openfromfile(filename):\n",
    "    temp=pickle.load(open(filename,\"rb\"))\n",
    "    return temp"
   ]
  },
  {
   "cell_type": "code",
   "execution_count": 100,
   "metadata": {},
   "outputs": [],
   "source": [
    "savetofile(sent_vectors_tr,'avg_w2v_tr')"
   ]
  },
  {
   "cell_type": "code",
   "execution_count": 18,
   "metadata": {},
   "outputs": [],
   "source": [
    "# converting train data into avg_w2vec data\n",
    "list_of_sent_cv=[]\n",
    "for sent in x_cv.values:\n",
    "    list_of_sent_cv.append(sent.split())"
   ]
  },
  {
   "cell_type": "code",
   "execution_count": 54,
   "metadata": {},
   "outputs": [
    {
     "name": "stdout",
     "output_type": "stream",
     "text": [
      "12000\n",
      "50\n"
     ]
    }
   ],
   "source": [
    "#finding avg w2v of cv data\n",
    "sent_vectors_cv = []; \n",
    "for sent in list_of_sent_cv:\n",
    "    sent_vec = np.zeros(50)\n",
    "    cnt_words =0;\n",
    "    for word in sent:\n",
    "        try:\n",
    "            vec = w2v_model_tr.wv[word]\n",
    "            sent_vec += vec\n",
    "            cnt_words += 1\n",
    "        except:\n",
    "            pass\n",
    "    sent_vec /= cnt_words\n",
    "    sent_vectors_cv.append(sent_vec)\n",
    "print(len(sent_vectors_cv))\n",
    "print(len(sent_vectors_cv[0]))"
   ]
  },
  {
   "cell_type": "code",
   "execution_count": 55,
   "metadata": {},
   "outputs": [
    {
     "name": "stdout",
     "output_type": "stream",
     "text": [
      "standardized data shape is (12000, 50)\n"
     ]
    }
   ],
   "source": [
    "#preprocessing avg w2v of cv data\n",
    "from sklearn import preprocessing\n",
    "avg_w2v_cv=preprocessing.scale(sent_vectors_cv)\n",
    "print(\"standardized data shape is\",avg_w2v_cv.shape)"
   ]
  },
  {
   "cell_type": "code",
   "execution_count": 56,
   "metadata": {},
   "outputs": [],
   "source": [
    "savetofile(sent_vectors_cv,'avg_w2v_cv')"
   ]
  },
  {
   "cell_type": "code",
   "execution_count": 24,
   "metadata": {},
   "outputs": [],
   "source": [
    "#converting test data into avg_w2vec data\n",
    "list_of_sent_test=[]\n",
    "for sent in X_test.values:\n",
    "    list_of_sent_test.append(sent.split())"
   ]
  },
  {
   "cell_type": "code",
   "execution_count": 58,
   "metadata": {},
   "outputs": [
    {
     "name": "stdout",
     "output_type": "stream",
     "text": [
      "12000\n",
      "50\n"
     ]
    }
   ],
   "source": [
    "#finding avg w2v of test data\n",
    "sent_vectors_test = [];\n",
    "for sent in list_of_sent_test: \n",
    "    sent_vec = np.zeros(50) \n",
    "    cnt_words =0; \n",
    "    for word in sent: \n",
    "        try:\n",
    "            vec = w2v_model_tr.wv[word]\n",
    "            sent_vec += vec\n",
    "            cnt_words += 1\n",
    "        except:\n",
    "            pass\n",
    "    sent_vec /= cnt_words\n",
    "    sent_vectors_test.append(sent_vec)\n",
    "print(len(sent_vectors_test))\n",
    "print(len(sent_vectors_test[0]))"
   ]
  },
  {
   "cell_type": "code",
   "execution_count": 59,
   "metadata": {},
   "outputs": [
    {
     "name": "stdout",
     "output_type": "stream",
     "text": [
      "standardized data shape is (12000, 50)\n"
     ]
    }
   ],
   "source": [
    "#preprocessing avg w2v of test data\n",
    "from sklearn import preprocessing\n",
    "avg_w2v_test=preprocessing.scale(sent_vectors_test)\n",
    "print(\"standardized data shape is\",avg_w2v_test.shape)"
   ]
  },
  {
   "cell_type": "code",
   "execution_count": 60,
   "metadata": {},
   "outputs": [],
   "source": [
    "savetofile(sent_vectors_test,'avg_w2v_test')"
   ]
  },
  {
   "cell_type": "code",
   "execution_count": 61,
   "metadata": {},
   "outputs": [],
   "source": [
    "avg_w2v_tr = openfromfile(\"avg_w2v_tr\")\n",
    "avg_w2v_cv = openfromfile(\"avg_w2v_cv\")\n",
    "avg_w2v_test = openfromfile(\"avg_w2v_test\")"
   ]
  },
  {
   "cell_type": "markdown",
   "metadata": {},
   "source": [
    "# 3.1.Brute Force Algorithm:"
   ]
  },
  {
   "cell_type": "code",
   "execution_count": 63,
   "metadata": {},
   "outputs": [
    {
     "name": "stdout",
     "output_type": "stream",
     "text": [
      "5,0.87231316726\n",
      "10,0.877035638423\n",
      "15,0.897203151638\n",
      "20,0.897304768487\n",
      "25,0.902948177989\n",
      "30,0.902646762524\n",
      "35,0.904696637427\n",
      "40,0.904505163118\n",
      "45,0.905822230334\n",
      "f1_score on cross validate data: [0.87231316725978658, 0.87703563842341292, 0.89720315163802233, 0.89730476848652385, 0.90294817798937921, 0.90264676252404064, 0.90469663742690043, 0.90450516311797502, 0.90582223033400244]\n",
      "Accuracy on test data for n nearest neighbours: 80.2583333333\n"
     ]
    }
   ],
   "source": [
    "from sklearn.neighbors import KNeighborsClassifier\n",
    "from sklearn.metrics import f1_score\n",
    "from sklearn.metrics import accuracy_score\n",
    "f1_score_=[]\n",
    "acc_score = []\n",
    "#Taking nearest neighbors as 5,10,15,20,25,30......50\n",
    "neigh = list(range(5,50,5))\n",
    "#finding the optimal k using maximum f1_score value\n",
    "for k in neigh:\n",
    "    print(k,end=',') \n",
    "    pred = []\n",
    "    knn = KNeighborsClassifier(n_neighbors=k,algorithm='brute')\n",
    "    knn.fit(avg_w2v_tr, y_tr)\n",
    "    #taking cross validate data in intervals of 500 for prediction\n",
    "    for i in range(0,len(avg_w2v_cv), 500):\n",
    "        t = avg_w2v_cv[i:i+500]\n",
    "        pred1 = knn.predict(t)\n",
    "        pred.extend(pred1)\n",
    "    k= f1_score(y_cv,pred)\n",
    "    print(k)\n",
    "    f1_score_.append(k)\n",
    "#list of f1_scores for respective nearest neighbors    \n",
    "print(\"f1_score on cross validate data:\",f1_score_)\n",
    "#finding accuracy on test data with predicted values\n",
    "accuracy = accuracy_score(Y_test, pred)\n",
    "print(\"Accuracy on test data for n nearest neighbours:\",accuracy * 100)"
   ]
  },
  {
   "cell_type": "code",
   "execution_count": 64,
   "metadata": {},
   "outputs": [
    {
     "name": "stdout",
     "output_type": "stream",
     "text": [
      "maximum f1 score value 0.905822230334\n",
      "best f1 score index value: 8\n",
      "optimal k value: 45\n"
     ]
    }
   ],
   "source": [
    "#finding the optimal k using maximum f1_score value\n",
    "print(\"maximum f1 score value\",max(f1_score_))\n",
    "#finding the index value of f1_score value which is maximum\n",
    "a=f1_score_.index(max(f1_score_)) \n",
    "print(\"best f1 score index value:\",a)\n",
    "#optimal k value index is same as maximum f1 score index value\n",
    "optimal_k=neigh[a]\n",
    "print(\"optimal k value:\",optimal_k)"
   ]
  },
  {
   "cell_type": "code",
   "execution_count": 65,
   "metadata": {},
   "outputs": [
    {
     "name": "stdout",
     "output_type": "stream",
     "text": [
      "Accuracy on test data: 80.2333333333\n"
     ]
    }
   ],
   "source": [
    "#Using optimal k value to find accuracy on test data\n",
    "knn_optimal = KNeighborsClassifier(n_neighbors  = optimal_k,algorithm='brute')\n",
    "knn_optimal.fit(avg_w2v_tr,y_tr)\n",
    "pred1 = []\n",
    "for i in range(0,len(avg_w2v_test),200):\n",
    "    y = avg_w2v_test[i:i+200]\n",
    "    pred = knn_optimal.predict(y)\n",
    "    pred1.extend(pred)\n",
    "accuracy = accuracy_score(Y_test, pred1)\n",
    "print(\"Accuracy on test data:\",accuracy * 100)"
   ]
  },
  {
   "cell_type": "code",
   "execution_count": 66,
   "metadata": {},
   "outputs": [
    {
     "name": "stdout",
     "output_type": "stream",
     "text": [
      "Accuracy on test set: 80.233%\n",
      "Precision on test set: 0.805\n",
      "Recall on test set: 0.996\n",
      "F1-Score on test set: 0.890\n",
      "Confusion Matrix of test set:\n",
      " [ [TN  FP]\n",
      " [FN TP] ]\n",
      "\n"
     ]
    },
    {
     "data": {
      "text/plain": [
       "<matplotlib.axes._subplots.AxesSubplot at 0x1d6472ea390>"
      ]
     },
     "execution_count": 66,
     "metadata": {},
     "output_type": "execute_result"
    },
    {
     "data": {
      "image/png": "[encoded data removed]",
      "text/plain": [
       "<Figure size 432x288 with 2 Axes>"
      ]
     },
     "metadata": {},
     "output_type": "display_data"
    }
   ],
   "source": [
    "#Using optimal k value to find accuracy,precision,recall,f1_score on test data\n",
    "from sklearn.metrics import accuracy_score\n",
    "from sklearn.metrics import confusion_matrix\n",
    "from sklearn.metrics import precision_score\n",
    "from sklearn.metrics import recall_score\n",
    "from sklearn.metrics import f1_score\n",
    "print(\"Accuracy on test set: %0.3f%%\"%(accuracy_score(Y_test, pred1)*100))\n",
    "print(\"Precision on test set: %0.3f\"%(precision_score(Y_test, pred1)))\n",
    "print(\"Recall on test set: %0.3f\"%(recall_score(Y_test, pred1)))\n",
    "print(\"F1-Score on test set: %0.3f\"%(f1_score(Y_test, pred1)))\n",
    "print(\"Confusion Matrix of test set:\\n [ [TN  FP]\\n [FN TP] ]\\n\")\n",
    "df_cm = pd.DataFrame(confusion_matrix(Y_test,pred1), range(2),range(2))\n",
    "sns.set(font_scale=1.4)#for label size\n",
    "sns.heatmap(df_cm, annot=True,annot_kws={\"size\": 16}, fmt='g')"
   ]
  },
  {
   "cell_type": "markdown",
   "metadata": {},
   "source": [
    "# 3.2.kd-tree Algorithm:"
   ]
  },
  {
   "cell_type": "code",
   "execution_count": 67,
   "metadata": {},
   "outputs": [
    {
     "name": "stdout",
     "output_type": "stream",
     "text": [
      "5,0.87231316726\n",
      "10,0.877035638423\n",
      "15,0.897203151638\n",
      "20,0.897304768487\n",
      "25,0.902948177989\n",
      "30,0.902646762524\n",
      "35,0.904696637427\n",
      "40,0.904505163118\n",
      "45,0.905822230334\n",
      "f1_score on cross validate data: [0.87231316725978658, 0.87703563842341292, 0.89720315163802233, 0.89730476848652385, 0.90294817798937921, 0.90264676252404064, 0.90469663742690043, 0.90450516311797502, 0.90582223033400244]\n",
      "Accuracy on test data for n nearest neighbours: 80.2583333333\n"
     ]
    }
   ],
   "source": [
    "from sklearn.neighbors import KNeighborsClassifier\n",
    "from sklearn.metrics import f1_score\n",
    "from sklearn.metrics import accuracy_score\n",
    "f1_score_=[]\n",
    "acc_score = []\n",
    "#Taking nearest neighbors as 5,10,15,20,25,30......50\n",
    "neigh = list(range(5,50,5))\n",
    "#finding the optimal k using maximum f1_score value\n",
    "for k in neigh:\n",
    "    print(k,end=',') \n",
    "    pred = []\n",
    "    knn = KNeighborsClassifier(n_neighbors=k,algorithm='kd_tree')\n",
    "    knn.fit(avg_w2v_tr, y_tr)\n",
    "    #taking cross validate data in intervals of 500 for prediction\n",
    "    for i in range(0,len(avg_w2v_cv), 500):\n",
    "        t = avg_w2v_cv[i:i+500]\n",
    "        pred1 = knn.predict(t)\n",
    "        pred.extend(pred1)\n",
    "    k= f1_score(y_cv,pred)\n",
    "    print(k)\n",
    "    f1_score_.append(k)\n",
    "#list of f1_scores for respective nearest neighbors    \n",
    "print(\"f1_score on cross validate data:\",f1_score_)\n",
    "#finding accuracy on test data with predicted values\n",
    "accuracy = accuracy_score(Y_test, pred)\n",
    "print(\"Accuracy on test data for n nearest neighbours:\",accuracy * 100)"
   ]
  },
  {
   "cell_type": "code",
   "execution_count": 68,
   "metadata": {},
   "outputs": [
    {
     "name": "stdout",
     "output_type": "stream",
     "text": [
      "maximum f1 score value 0.905822230334\n",
      "best f1 score index value: 8\n",
      "optimal k value: 45\n"
     ]
    }
   ],
   "source": [
    "#finding the optimal k using maximum f1_score value\n",
    "print(\"maximum f1 score value\",max(f1_score_))\n",
    "#finding the index value of f1_score value which is maximum\n",
    "a=f1_score_.index(max(f1_score_)) \n",
    "print(\"best f1 score index value:\",a)\n",
    "#optimal k value index is same as maximum f1 score index value\n",
    "optimal_k=neigh[a]\n",
    "print(\"optimal k value:\",optimal_k)"
   ]
  },
  {
   "cell_type": "code",
   "execution_count": 69,
   "metadata": {},
   "outputs": [
    {
     "name": "stdout",
     "output_type": "stream",
     "text": [
      "Accuracy on test data: 80.2333333333\n"
     ]
    }
   ],
   "source": [
    "#Using optimal k value to find accuracy on test data\n",
    "knn_optimal = KNeighborsClassifier(n_neighbors = optimal_k,algorithm='kd_tree')\n",
    "knn_optimal.fit(avg_w2v_tr,y_tr)\n",
    "pred1 = []\n",
    "for i in range(0,len(avg_w2v_test),200):\n",
    "    y = avg_w2v_test[i:i+200]\n",
    "    pred = knn_optimal.predict(y)\n",
    "    pred1.extend(pred)\n",
    "accuracy = accuracy_score(Y_test, pred1)\n",
    "print(\"Accuracy on test data:\",accuracy * 100)"
   ]
  },
  {
   "cell_type": "code",
   "execution_count": 70,
   "metadata": {},
   "outputs": [
    {
     "name": "stdout",
     "output_type": "stream",
     "text": [
      "Accuracy on test set: 80.233%\n",
      "Precision on test set: 0.805\n",
      "Recall on test set: 0.996\n",
      "F1-Score on test set: 0.890\n",
      "Confusion Matrix of test set:\n",
      " [ [TN  FP]\n",
      " [FN TP] ]\n",
      "\n"
     ]
    },
    {
     "data": {
      "text/plain": [
       "<matplotlib.axes._subplots.AxesSubplot at 0x1d6480e6e80>"
      ]
     },
     "execution_count": 70,
     "metadata": {},
     "output_type": "execute_result"
    },
    {
     "data": {
      "image/png": "[encoded data removed]",
      "text/plain": [
       "<Figure size 432x288 with 2 Axes>"
      ]
     },
     "metadata": {},
     "output_type": "display_data"
    }
   ],
   "source": [
    "#Using optimal k value to find accuracy,precision,recall,f1_score on test data\n",
    "from sklearn.metrics import accuracy_score\n",
    "from sklearn.metrics import confusion_matrix\n",
    "from sklearn.metrics import precision_score\n",
    "from sklearn.metrics import recall_score\n",
    "from sklearn.metrics import f1_score\n",
    "print(\"Accuracy on test set: %0.3f%%\"%(accuracy_score(Y_test, pred1)*100))\n",
    "print(\"Precision on test set: %0.3f\"%(precision_score(Y_test, pred1)))\n",
    "print(\"Recall on test set: %0.3f\"%(recall_score(Y_test, pred1)))\n",
    "print(\"F1-Score on test set: %0.3f\"%(f1_score(Y_test, pred1)))\n",
    "print(\"Confusion Matrix of test set:\\n [ [TN  FP]\\n [FN TP] ]\\n\")\n",
    "df_cm = pd.DataFrame(confusion_matrix(Y_test,pred1), range(2),range(2))\n",
    "sns.set(font_scale=1.4)#for label size\n",
    "sns.heatmap(df_cm, annot=True,annot_kws={\"size\": 16}, fmt='g')"
   ]
  },
  {
   "cell_type": "markdown",
   "metadata": {},
   "source": [
    "# 4.Tf-idf- W2V:"
   ]
  },
  {
   "cell_type": "code",
   "execution_count": 17,
   "metadata": {},
   "outputs": [
    {
     "name": "stdout",
     "output_type": "stream",
     "text": [
      "shape of tf_idf: (36000, 573320)\n"
     ]
    }
   ],
   "source": [
    "#training tfidf model on train data\n",
    "from sklearn.feature_extraction.text import TfidfVectorizer\n",
    "tf_idf_vect = TfidfVectorizer(ngram_range=(1,2))\n",
    "tf_idf_tr = tf_idf_vect.fit_transform(x_tr.values)\n",
    "print(\"shape of tf_idf:\",tf_idf_tr.shape)"
   ]
  },
  {
   "cell_type": "code",
   "execution_count": 18,
   "metadata": {},
   "outputs": [
    {
     "name": "stdout",
     "output_type": "stream",
     "text": [
      "36000\r"
     ]
    }
   ],
   "source": [
    "#finding tfidf w2v on train data\n",
    "features =tf_idf_vect.get_feature_names()\n",
    "tfidf_w2v_tr = []\n",
    "row = 0\n",
    "for sent in list_of_sent_tr:\n",
    "    sent_vec = np.zeros(50)\n",
    "    weighted_sum = 0\n",
    "    for word in sent:\n",
    "        if(word in words_tr):\n",
    "            vec = w2v_model_tr.wv[word]\n",
    "            tfidf =  tf_idf_tr[row,features.index(word)]\n",
    "            sent_vec += (vec * tfidf)\n",
    "            weighted_sum += tfidf\n",
    "    if(weighted_sum != 0):\n",
    "        sent_vec /= weighted_sum\n",
    "    tfidf_w2v_tr.append(sent_vec)      \n",
    "    row += 1\n",
    "    if row % 100 == 0:\n",
    "        print(row,end='\\r')"
   ]
  },
  {
   "cell_type": "code",
   "execution_count": 36,
   "metadata": {},
   "outputs": [],
   "source": [
    "import pickle \n",
    "def savetofile(obj,filename):\n",
    "    pickle.dump(obj,open(filename,\"wb\"))    \n",
    "def openfromfile(filename):\n",
    "    temp=pickle.load(open(filename,\"rb\"))\n",
    "    return temp"
   ]
  },
  {
   "cell_type": "code",
   "execution_count": 21,
   "metadata": {},
   "outputs": [],
   "source": [
    "savetofile(tfidf_w2v_tr,'tfidf_w2v_tr')"
   ]
  },
  {
   "cell_type": "code",
   "execution_count": 22,
   "metadata": {},
   "outputs": [
    {
     "name": "stdout",
     "output_type": "stream",
     "text": [
      "12000\r"
     ]
    }
   ],
   "source": [
    "#finding tfidf w2v on cv data\n",
    "import numpy as np\n",
    "features =tf_idf_vect.get_feature_names()\n",
    "tfidf_w2v_cv = []\n",
    "row = 0\n",
    "for sent in list_of_sent_cv:\n",
    "    sent_vec = np.zeros(50)\n",
    "    weighted_sum = 0\n",
    "    for word in sent:\n",
    "        if(word in words_tr):\n",
    "            vec = w2v_model_tr.wv[word]\n",
    "            tfidf = tf_idf_tr[row,features.index(word)]\n",
    "            sent_vec += (vec * tfidf)\n",
    "            weighted_sum += tfidf\n",
    "    if(weighted_sum != 0):\n",
    "        sent_vec /= weighted_sum\n",
    "    tfidf_w2v_cv.append(sent_vec)      \n",
    "    row += 1\n",
    "    if row % 100 == 0:\n",
    "        print(row,end='\\r')"
   ]
  },
  {
   "cell_type": "code",
   "execution_count": 23,
   "metadata": {},
   "outputs": [],
   "source": [
    "savetofile(tfidf_w2v_cv,'tfidf_w2v_cv')"
   ]
  },
  {
   "cell_type": "code",
   "execution_count": 27,
   "metadata": {},
   "outputs": [
    {
     "name": "stdout",
     "output_type": "stream",
     "text": [
      "12000\r"
     ]
    }
   ],
   "source": [
    "#finding tfidf w2v on test data\n",
    "features =tf_idf_vect.get_feature_names()\n",
    "tfidf_w2v_test = []\n",
    "row = 0\n",
    "for sent in list_of_sent_test:\n",
    "    sent_vec = np.zeros(50)\n",
    "    weighted_sum = 0\n",
    "    for word in sent:\n",
    "        if(word in words_tr):\n",
    "            vec = w2v_model_tr.wv[word]\n",
    "            tfidf = tf_idf_tr[row,features.index(word)]\n",
    "            sent_vec += (vec * tfidf)\n",
    "            weighted_sum += tfidf\n",
    "    if(weighted_sum != 0):\n",
    "        sent_vec /= weighted_sum\n",
    "    tfidf_w2v_test.append(sent_vec)      \n",
    "    row += 1\n",
    "    if row % 100 == 0:\n",
    "        print(row,end='\\r')"
   ]
  },
  {
   "cell_type": "code",
   "execution_count": 28,
   "metadata": {},
   "outputs": [],
   "source": [
    "savetofile(tfidf_w2v_test,'tfidf_w2v_test')"
   ]
  },
  {
   "cell_type": "code",
   "execution_count": 29,
   "metadata": {},
   "outputs": [],
   "source": [
    "tfidf_w2v_tr = openfromfile(\"tfidf_w2v_tr\")\n",
    "tfidf_w2v_cv = openfromfile(\"tfidf_w2v_cv\")\n",
    "tfidf_w2v_test = openfromfile(\"tfidf_w2v_test\")"
   ]
  },
  {
   "cell_type": "markdown",
   "metadata": {},
   "source": [
    "# 4.1.Brute Force Algorithm:"
   ]
  },
  {
   "cell_type": "code",
   "execution_count": 30,
   "metadata": {},
   "outputs": [
    {
     "name": "stdout",
     "output_type": "stream",
     "text": [
      "5,0.893280266568\n",
      "10,0.902226702098\n",
      "15,0.905389986765\n",
      "20,0.905331385795\n",
      "25,0.906255699435\n",
      "30,0.906255699435\n",
      "35,0.906281338317\n",
      "40,0.906446612565\n",
      "45,0.90633119103\n",
      "f1_score on cross validate data: [0.8932802665679378, 0.90222670209841471, 0.90538998676463878, 0.90533138579514338, 0.90625569943461604, 0.90625569943461604, 0.90628133831707536, 0.90644661256496761, 0.90633119102967319]\n",
      "Accuracy on test data for n nearest neighbours: 80.3666666667\n"
     ]
    }
   ],
   "source": [
    "from sklearn.neighbors import KNeighborsClassifier\n",
    "from sklearn.metrics import f1_score\n",
    "from sklearn.metrics import accuracy_score\n",
    "f1_score_=[]\n",
    "acc_score = []\n",
    "#Taking nearest neighbors as 5,10,15,20,25,30......50\n",
    "neigh = list(range(5,50,5))\n",
    "#finding the optimal k using maximum f1_score value\n",
    "for k in neigh:\n",
    "    print(k,end=',') \n",
    "    pred = []\n",
    "    knn = KNeighborsClassifier(n_neighbors=k,algorithm='brute')\n",
    "    knn.fit(tfidf_w2v_tr, y_tr)\n",
    "    #taking cross validate data in intervals of 500 for prediction\n",
    "    for i in range(0,len(tfidf_w2v_cv), 500):\n",
    "        t = tfidf_w2v_cv[i:i+500]\n",
    "        pred1 = knn.predict(t)\n",
    "        pred.extend(pred1)\n",
    "    k= f1_score(y_cv,pred)\n",
    "    print(k)\n",
    "    f1_score_.append(k)\n",
    "#list of f1_scores for respective nearest neighbors    \n",
    "print(\"f1_score on cross validate data:\",f1_score_)\n",
    "#finding accuracy on test data with predicted values\n",
    "accuracy = accuracy_score(Y_test, pred)\n",
    "print(\"Accuracy on test data for n nearest neighbours:\",accuracy * 100)"
   ]
  },
  {
   "cell_type": "code",
   "execution_count": 31,
   "metadata": {},
   "outputs": [
    {
     "name": "stdout",
     "output_type": "stream",
     "text": [
      "maximum f1 score value 0.906446612565\n",
      "best f1 score index value: 7\n",
      "optimal k value: 40\n"
     ]
    }
   ],
   "source": [
    "#finding the optimal k using maximum f1_score value\n",
    "print(\"maximum f1 score value\",max(f1_score_))\n",
    "#finding the index value of f1_score value which is maximum\n",
    "a=f1_score_.index(max(f1_score_)) \n",
    "print(\"best f1 score index value:\",a)\n",
    "#optimal k value index is same as maximum f1 score index value\n",
    "optimal_k=neigh[a]\n",
    "print(\"optimal k value:\",optimal_k)"
   ]
  },
  {
   "cell_type": "code",
   "execution_count": 32,
   "metadata": {},
   "outputs": [
    {
     "name": "stdout",
     "output_type": "stream",
     "text": [
      "Accuracy on test data: 80.4583333333\n"
     ]
    }
   ],
   "source": [
    "#Using optimal k value to find accuracy on test data\n",
    "knn_optimal = KNeighborsClassifier(n_neighbors  = optimal_k,algorithm='brute')\n",
    "knn_optimal.fit(tfidf_w2v_tr,y_tr)\n",
    "pred1 = []\n",
    "for i in range(0,len(tfidf_w2v_test),200):\n",
    "    y = tfidf_w2v_test[i:i+200]\n",
    "    pred = knn_optimal.predict(y)\n",
    "    pred1.extend(pred)\n",
    "accuracy = accuracy_score(Y_test, pred1)\n",
    "print(\"Accuracy on test data:\",accuracy * 100)"
   ]
  },
  {
   "cell_type": "code",
   "execution_count": 34,
   "metadata": {},
   "outputs": [
    {
     "name": "stdout",
     "output_type": "stream",
     "text": [
      "Accuracy on test set: 80.458%\n",
      "Precision on test set: 0.805\n",
      "Recall on test set: 0.999\n",
      "F1-Score on test set: 0.892\n",
      "Confusion Matrix of test set:\n",
      " [ [TN  FP]\n",
      " [FN TP] ]\n",
      "\n"
     ]
    },
    {
     "data": {
      "text/plain": [
       "<matplotlib.axes._subplots.AxesSubplot at 0x1da3fc146d8>"
      ]
     },
     "execution_count": 34,
     "metadata": {},
     "output_type": "execute_result"
    },
    {
     "data": {
      "image/png": "[encoded data removed]",
      "text/plain": [
       "<Figure size 432x288 with 2 Axes>"
      ]
     },
     "metadata": {},
     "output_type": "display_data"
    }
   ],
   "source": [
    "#Using optimal k value to find accuracy,precision,recall,f1_score on test data\n",
    "from sklearn.metrics import accuracy_score\n",
    "from sklearn.metrics import confusion_matrix\n",
    "from sklearn.metrics import precision_score\n",
    "from sklearn.metrics import recall_score\n",
    "from sklearn.metrics import f1_score\n",
    "print(\"Accuracy on test set: %0.3f%%\"%(accuracy_score(Y_test, pred1)*100))\n",
    "print(\"Precision on test set: %0.3f\"%(precision_score(Y_test, pred1)))\n",
    "print(\"Recall on test set: %0.3f\"%(recall_score(Y_test, pred1)))\n",
    "print(\"F1-Score on test set: %0.3f\"%(f1_score(Y_test, pred1)))\n",
    "print(\"Confusion Matrix of test set:\\n [ [TN  FP]\\n [FN TP] ]\\n\")\n",
    "df_cm = pd.DataFrame(confusion_matrix(Y_test,pred1), range(2),range(2))\n",
    "sns.set(font_scale=1.4)#for label size\n",
    "sns.heatmap(df_cm, annot=True,annot_kws={\"size\": 16}, fmt='g')"
   ]
  },
  {
   "cell_type": "markdown",
   "metadata": {},
   "source": [
    "# 4.2.kd-tree Algorithm:"
   ]
  },
  {
   "cell_type": "code",
   "execution_count": 35,
   "metadata": {},
   "outputs": [
    {
     "name": "stdout",
     "output_type": "stream",
     "text": [
      "5,0.893280266568\n",
      "10,0.902226702098\n",
      "15,0.905389986765\n",
      "20,0.905331385795\n",
      "25,0.906255699435\n",
      "30,0.906255699435\n",
      "35,0.906281338317\n",
      "40,0.906446612565\n",
      "45,0.90633119103\n",
      "f1_score on cross validate data: [0.8932802665679378, 0.90222670209841471, 0.90538998676463878, 0.90533138579514338, 0.90625569943461604, 0.90625569943461604, 0.90628133831707536, 0.90644661256496761, 0.90633119102967319]\n",
      "Accuracy on test data for n nearest neighbours: 80.3666666667\n"
     ]
    }
   ],
   "source": [
    "from sklearn.neighbors import KNeighborsClassifier\n",
    "from sklearn.metrics import f1_score\n",
    "from sklearn.metrics import accuracy_score\n",
    "f1_score_=[]\n",
    "acc_score = []\n",
    "#Taking nearest neighbors as 5,10,15,20,25,30......50\n",
    "neigh = list(range(5,50,5))\n",
    "#finding the optimal k using maximum f1_score value\n",
    "for k in neigh:\n",
    "    print(k,end=',') \n",
    "    pred = []\n",
    "    knn = KNeighborsClassifier(n_neighbors=k,algorithm='kd_tree')\n",
    "    knn.fit(tfidf_w2v_tr, y_tr)\n",
    "    #taking cross validate data in intervals of 500 for prediction\n",
    "    for i in range(0,len(tfidf_w2v_cv), 500):\n",
    "        t = tfidf_w2v_cv[i:i+500]\n",
    "        pred1 = knn.predict(t)\n",
    "        pred.extend(pred1)\n",
    "    k= f1_score(y_cv,pred)\n",
    "    print(k)\n",
    "    f1_score_.append(k)\n",
    "#list of f1_scores for respective nearest neighbors    \n",
    "print(\"f1_score on cross validate data:\",f1_score_)\n",
    "#finding accuracy on test data with predicted values\n",
    "accuracy = accuracy_score(Y_test, pred)\n",
    "print(\"Accuracy on test data for n nearest neighbours:\",accuracy * 100)"
   ]
  },
  {
   "cell_type": "code",
   "execution_count": 36,
   "metadata": {},
   "outputs": [
    {
     "name": "stdout",
     "output_type": "stream",
     "text": [
      "maximum f1 score value 0.906446612565\n",
      "best f1 score index value: 7\n",
      "optimal k value: 40\n"
     ]
    }
   ],
   "source": [
    "#finding the optimal k using maximum f1_score value\n",
    "print(\"maximum f1 score value\",max(f1_score_))\n",
    "#finding the index value of f1_score value which is maximum\n",
    "a=f1_score_.index(max(f1_score_)) \n",
    "print(\"best f1 score index value:\",a)\n",
    "#optimal k value index is same as maximum f1 score index value\n",
    "optimal_k=neigh[a]\n",
    "print(\"optimal k value:\",optimal_k)"
   ]
  },
  {
   "cell_type": "code",
   "execution_count": 37,
   "metadata": {},
   "outputs": [
    {
     "name": "stdout",
     "output_type": "stream",
     "text": [
      "Accuracy on test data: 80.4583333333\n"
     ]
    }
   ],
   "source": [
    "#Using optimal k value to find accuracy on test data\n",
    "knn_optimal = KNeighborsClassifier(n_neighbors  = optimal_k,algorithm='kd_tree')\n",
    "knn_optimal.fit(tfidf_w2v_tr,y_tr)\n",
    "pred1 = []\n",
    "for i in range(0,len(tfidf_w2v_test),200):\n",
    "    y = tfidf_w2v_test[i:i+200]\n",
    "    pred = knn_optimal.predict(y)\n",
    "    pred1.extend(pred)\n",
    "accuracy = accuracy_score(Y_test, pred1)\n",
    "print(\"Accuracy on test data:\",accuracy * 100)"
   ]
  },
  {
   "cell_type": "code",
   "execution_count": 38,
   "metadata": {},
   "outputs": [
    {
     "name": "stdout",
     "output_type": "stream",
     "text": [
      "Accuracy on test set: 80.458%\n",
      "Precision on test set: 0.805\n",
      "Recall on test set: 0.999\n",
      "F1-Score on test set: 0.892\n",
      "Confusion Matrix of test set:\n",
      " [ [TN  FP]\n",
      " [FN TP] ]\n",
      "\n"
     ]
    },
    {
     "data": {
      "text/plain": [
       "<matplotlib.axes._subplots.AxesSubplot at 0x1da408b5550>"
      ]
     },
     "execution_count": 38,
     "metadata": {},
     "output_type": "execute_result"
    },
    {
     "data": {
      "image/png": "[encoded data removed]",
      "text/plain": [
       "<Figure size 432x288 with 2 Axes>"
      ]
     },
     "metadata": {},
     "output_type": "display_data"
    }
   ],
   "source": [
    "#Using optimal k value to find accuracy,precision,recall,f1_score on test data\n",
    "from sklearn.metrics import accuracy_score\n",
    "from sklearn.metrics import confusion_matrix\n",
    "from sklearn.metrics import precision_score\n",
    "from sklearn.metrics import recall_score\n",
    "from sklearn.metrics import f1_score\n",
    "print(\"Accuracy on test set: %0.3f%%\"%(accuracy_score(Y_test, pred1)*100))\n",
    "print(\"Precision on test set: %0.3f\"%(precision_score(Y_test, pred1)))\n",
    "print(\"Recall on test set: %0.3f\"%(recall_score(Y_test, pred1)))\n",
    "print(\"F1-Score on test set: %0.3f\"%(f1_score(Y_test, pred1)))\n",
    "print(\"Confusion Matrix of test set:\\n [ [TN  FP]\\n [FN TP] ]\\n\")\n",
    "df_cm = pd.DataFrame(confusion_matrix(Y_test,pred1), range(2),range(2))\n",
    "sns.set(font_scale=1.4)#for label size\n",
    "sns.heatmap(df_cm, annot=True,annot_kws={\"size\": 16}, fmt='g')"
   ]
  },
  {
   "cell_type": "markdown",
   "metadata": {},
   "source": [
    "# Summary"
   ]
  },
  {
   "cell_type": "markdown",
   "metadata": {},
   "source": [
    "**K-nn with BOW,TF-IDF,AVG-W2v,TF-IDF W2V text classifications and Optimal-k ,Brute Force algorithms:**\n",
    "\n",
    "|          |sample size|Optimal_K|Brute Force   |              |              |            |                            \n",
    "|----------|-----------|---------|--------------|--------------|--------------|------------| \n",
    "|          |           |         |Accuracy      |Precision     |Recall        |F1-score    |\n",
    "|BOW       |  60k      |   15    |   81.40%     |    0.815     |    0.994     |  0.896     |\n",
    "|TF-IDF    |  60k      |   10    |   81.72%     |    0.823     |    0.985     |  0.897     |\n",
    "|Avg-W2V   |  60k      |   45    |   80.23%     |    0.805     |    0.996     |  0.890     |\n",
    "|TF-IDF W2V|  60k      |   40    |   80.45%     |    0.805     |    0.999     |  0.892     |\n",
    "    "
   ]
  },
  {
   "cell_type": "markdown",
   "metadata": {},
   "source": [
    "**K-nn with BOW,TF-IDF,AVG-W2v,TF-IDF W2V text classifications and Optimal-k ,Brute Force algorithms:**\n",
    "\n",
    "|          |sample size|Optimal_K|kd-tree       |              |              |            |                            \n",
    "|----------|-----------|---------|--------------|--------------|--------------|------------| \n",
    "|          |           |         |Accuracy      |Precision     |Recall        |F1-score    |\n",
    "|BOW       | 60k       |   45    |   79.59%     |  0.804       |  0.987       |0.866       |\n",
    "|TF-IDF    | 60k       |   45    |   80.42%     |  0.805       |  0.999       |0.892       |\n",
    "|Avg-W2V   | 60k       |   45    |   80.23%     |  0.805       |  0.996       |0.890       |\n",
    "|TF-IDF W2V| 60k       |   40    |   80.45%     |  0.805       |  0.999       |0.892       |\n",
    "\n",
    "\n",
    "**observation:**\n",
    "              By comparing above table, for our data Avg-w2v with knn is working better.\n",
    "    "
   ]
  },
  {
   "cell_type": "code",
   "execution_count": null,
   "metadata": {},
   "outputs": [],
   "source": []
  }
 ],
 "metadata": {
  "kernelspec": {
   "display_name": "Python 3",
   "language": "python",
   "name": "python3"
  },
  "language_info": {
   "codemirror_mode": {
    "name": "ipython",
    "version": 3
   },
   "file_extension": ".py",
   "mimetype": "text/x-python",
   "name": "python",
   "nbconvert_exporter": "python",
   "pygments_lexer": "ipython3",
   "version": "3.6.5"
  }
 },
 "nbformat": 4,
 "nbformat_minor": 2
}
