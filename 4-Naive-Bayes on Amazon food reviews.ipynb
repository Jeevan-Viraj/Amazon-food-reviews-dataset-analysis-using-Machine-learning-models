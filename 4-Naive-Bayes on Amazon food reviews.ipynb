{
 "cells": [
  {
   "cell_type": "markdown",
   "metadata": {},
   "source": [
    "# OBJECTIVE:"
   ]
  },
  {
   "cell_type": "markdown",
   "metadata": {},
   "source": [
    "# To apply Naive Bayes on Amazon food reviews"
   ]
  },
  {
   "cell_type": "code",
   "execution_count": null,
   "metadata": {},
   "outputs": [],
   "source": [
    "import pickle\n",
    "def savetofile(obj,filename):\n",
    "   pickle.dump(obj,open(filename,\"wb\"))\n",
    "def openfromfile(filename):\n",
    "   temp = pickle.load(open(filename,\"rb\"))\n",
    "   return temp"
   ]
  },
  {
   "cell_type": "code",
   "execution_count": 3,
   "metadata": {},
   "outputs": [
    {
     "data": {
      "text/html": [
       "<div>\n",
       "<style scoped>\n",
       "    .dataframe tbody tr th:only-of-type {\n",
       "        vertical-align: middle;\n",
       "    }\n",
       "\n",
       "    .dataframe tbody tr th {\n",
       "        vertical-align: top;\n",
       "    }\n",
       "\n",
       "    .dataframe thead th {\n",
       "        text-align: right;\n",
       "    }\n",
       "</style>\n",
       "<table border=\"1\" class=\"dataframe\">\n",
       "  <thead>\n",
       "    <tr style=\"text-align: right;\">\n",
       "      <th></th>\n",
       "      <th>Id</th>\n",
       "      <th>ProductId</th>\n",
       "      <th>UserId</th>\n",
       "      <th>ProfileName</th>\n",
       "      <th>HelpfulnessNumerator</th>\n",
       "      <th>HelpfulnessDenominator</th>\n",
       "      <th>Score</th>\n",
       "      <th>Time</th>\n",
       "      <th>Summary</th>\n",
       "      <th>Text</th>\n",
       "      <th>CleanedText</th>\n",
       "    </tr>\n",
       "  </thead>\n",
       "  <tbody>\n",
       "    <tr>\n",
       "      <th>0</th>\n",
       "      <td>150524</td>\n",
       "      <td>0006641040</td>\n",
       "      <td>ACITT7DI6IDDL</td>\n",
       "      <td>shari zychinski</td>\n",
       "      <td>0</td>\n",
       "      <td>0</td>\n",
       "      <td>pos</td>\n",
       "      <td>939340800</td>\n",
       "      <td>EVERY book is educational</td>\n",
       "      <td>this witty little book makes my son laugh at l...</td>\n",
       "      <td>witti littl book make son laugh loud recit car...</td>\n",
       "    </tr>\n",
       "    <tr>\n",
       "      <th>1</th>\n",
       "      <td>150501</td>\n",
       "      <td>0006641040</td>\n",
       "      <td>AJ46FKXOVC7NR</td>\n",
       "      <td>Nicholas A Mesiano</td>\n",
       "      <td>2</td>\n",
       "      <td>2</td>\n",
       "      <td>pos</td>\n",
       "      <td>940809600</td>\n",
       "      <td>This whole series is great way to spend time w...</td>\n",
       "      <td>I can remember seeing the show when it aired o...</td>\n",
       "      <td>rememb see show air televis year ago child sis...</td>\n",
       "    </tr>\n",
       "    <tr>\n",
       "      <th>2</th>\n",
       "      <td>451856</td>\n",
       "      <td>B00004CXX9</td>\n",
       "      <td>AIUWLEQ1ADEG5</td>\n",
       "      <td>Elizabeth Medina</td>\n",
       "      <td>0</td>\n",
       "      <td>0</td>\n",
       "      <td>pos</td>\n",
       "      <td>944092800</td>\n",
       "      <td>Entertainingl Funny!</td>\n",
       "      <td>Beetlejuice is a well written movie ..... ever...</td>\n",
       "      <td>beetlejuic well written movi everyth excel act...</td>\n",
       "    </tr>\n",
       "    <tr>\n",
       "      <th>3</th>\n",
       "      <td>374359</td>\n",
       "      <td>B00004CI84</td>\n",
       "      <td>A344SMIA5JECGM</td>\n",
       "      <td>Vincent P. Ross</td>\n",
       "      <td>1</td>\n",
       "      <td>2</td>\n",
       "      <td>pos</td>\n",
       "      <td>944438400</td>\n",
       "      <td>A modern day fairy tale</td>\n",
       "      <td>A twist of rumplestiskin captured on film, sta...</td>\n",
       "      <td>twist rumplestiskin captur film star michael k...</td>\n",
       "    </tr>\n",
       "    <tr>\n",
       "      <th>4</th>\n",
       "      <td>451855</td>\n",
       "      <td>B00004CXX9</td>\n",
       "      <td>AJH6LUC1UT1ON</td>\n",
       "      <td>The Phantom of the Opera</td>\n",
       "      <td>0</td>\n",
       "      <td>0</td>\n",
       "      <td>pos</td>\n",
       "      <td>946857600</td>\n",
       "      <td>FANTASTIC!</td>\n",
       "      <td>Beetlejuice is an excellent and funny movie. K...</td>\n",
       "      <td>beetlejuic excel funni movi keaton hilari wack...</td>\n",
       "    </tr>\n",
       "  </tbody>\n",
       "</table>\n",
       "</div>"
      ],
      "text/plain": [
       "       Id   ProductId          UserId               ProfileName  \\\n",
       "0  150524  0006641040   ACITT7DI6IDDL           shari zychinski   \n",
       "1  150501  0006641040   AJ46FKXOVC7NR        Nicholas A Mesiano   \n",
       "2  451856  B00004CXX9   AIUWLEQ1ADEG5          Elizabeth Medina   \n",
       "3  374359  B00004CI84  A344SMIA5JECGM           Vincent P. Ross   \n",
       "4  451855  B00004CXX9   AJH6LUC1UT1ON  The Phantom of the Opera   \n",
       "\n",
       "   HelpfulnessNumerator  HelpfulnessDenominator Score       Time  \\\n",
       "0                     0                       0   pos  939340800   \n",
       "1                     2                       2   pos  940809600   \n",
       "2                     0                       0   pos  944092800   \n",
       "3                     1                       2   pos  944438400   \n",
       "4                     0                       0   pos  946857600   \n",
       "\n",
       "                                             Summary  \\\n",
       "0                          EVERY book is educational   \n",
       "1  This whole series is great way to spend time w...   \n",
       "2                               Entertainingl Funny!   \n",
       "3                            A modern day fairy tale   \n",
       "4                                         FANTASTIC!   \n",
       "\n",
       "                                                Text  \\\n",
       "0  this witty little book makes my son laugh at l...   \n",
       "1  I can remember seeing the show when it aired o...   \n",
       "2  Beetlejuice is a well written movie ..... ever...   \n",
       "3  A twist of rumplestiskin captured on film, sta...   \n",
       "4  Beetlejuice is an excellent and funny movie. K...   \n",
       "\n",
       "                                         CleanedText  \n",
       "0  witti littl book make son laugh loud recit car...  \n",
       "1  rememb see show air televis year ago child sis...  \n",
       "2  beetlejuic well written movi everyth excel act...  \n",
       "3  twist rumplestiskin captur film star michael k...  \n",
       "4  beetlejuic excel funni movi keaton hilari wack...  "
      ]
     },
     "execution_count": 3,
     "metadata": {},
     "output_type": "execute_result"
    }
   ],
   "source": [
    "#loading the data of 100k from saved file\n",
    "final_100000 = openfromfile(\"f_string.pickle\")\n",
    "final_100000.head()"
   ]
  },
  {
   "cell_type": "code",
   "execution_count": 4,
   "metadata": {},
   "outputs": [
    {
     "data": {
      "text/plain": [
       "(100000, 11)"
      ]
     },
     "execution_count": 4,
     "metadata": {},
     "output_type": "execute_result"
    }
   ],
   "source": [
    "#Making the index from 0 to end\n",
    "final_100000= final_100000.reset_index(drop=True)\n",
    "final_100000.shape"
   ]
  },
  {
   "cell_type": "code",
   "execution_count": 5,
   "metadata": {},
   "outputs": [],
   "source": [
    "#In the Score column, assigning positive as 1 and negative as 0\n",
    "def pos_neg(x):\n",
    "    if x == 'pos':\n",
    "        return 1\n",
    "    return 0\n",
    "final_100000['Score'] = final_100000['Score'].map(pos_neg)"
   ]
  },
  {
   "cell_type": "code",
   "execution_count": 6,
   "metadata": {},
   "outputs": [],
   "source": [
    "savetofile(final_100000,\"f2_string.pickle\")"
   ]
  },
  {
   "cell_type": "code",
   "execution_count": 7,
   "metadata": {},
   "outputs": [],
   "source": [
    "final_100000 = openfromfile(\"f2_string.pickle\")"
   ]
  },
  {
   "cell_type": "code",
   "execution_count": 9,
   "metadata": {},
   "outputs": [
    {
     "data": {
      "image/png": "[encoded data removed]",
      "text/plain": [
       "<Figure size 432x288 with 1 Axes>"
      ]
     },
     "metadata": {},
     "output_type": "display_data"
    },
    {
     "data": {
      "text/plain": [
       "1    81998\n",
       "0    18002\n",
       "Name: Score, dtype: int64"
      ]
     },
     "execution_count": 9,
     "metadata": {},
     "output_type": "execute_result"
    }
   ],
   "source": [
    "import seaborn as sns\n",
    "import matplotlib.pyplot as plt\n",
    "ax=plt.axes()\n",
    "sns.countplot(final_100000.Score,ax=ax)\n",
    "plt.title(\"Scores\")\n",
    "plt.show()\n",
    "final_100000['Score'].value_counts()"
   ]
  },
  {
   "cell_type": "code",
   "execution_count": 32,
   "metadata": {},
   "outputs": [
    {
     "name": "stdout",
     "output_type": "stream",
     "text": [
      "(70000,)\n",
      "(30000,)\n",
      "(70000,)\n",
      "(30000,)\n"
     ]
    }
   ],
   "source": [
    "#storing cleanedtext into x and Score into y\n",
    "x = final_100000['CleanedText']\n",
    "y = final_100000['Score']\n",
    "#Splitting the data into train and test data with 70:30 ratio.\n",
    "from sklearn.model_selection import train_test_split\n",
    "X_train, X_test, Y_train, Y_test = train_test_split(x, y, test_size=0.3, shuffle=False)\n",
    "print(X_train.shape)\n",
    "print(X_test.shape)\n",
    "print(Y_train.shape)\n",
    "print(Y_test.shape)"
   ]
  },
  {
   "cell_type": "markdown",
   "metadata": {},
   "source": [
    "# 1.BOW:"
   ]
  },
  {
   "cell_type": "code",
   "execution_count": 33,
   "metadata": {},
   "outputs": [],
   "source": [
    "#Bag of words:\n",
    "from sklearn.feature_extraction.text import CountVectorizer\n",
    "count_vect = CountVectorizer()\n",
    "#vectorizing the train data,cross validate data and test data.\n",
    "bow1 = count_vect.fit_transform(X_train)\n",
    "bow2 = count_vect.transform(X_test)\n",
    "#preprocessing the train data,cross validate data and test data.\n",
    "from sklearn import preprocessing\n",
    "Train_BOW_X = preprocessing.normalize(bow1)\n",
    "Test_BOW_X = preprocessing.normalize(bow2)"
   ]
  },
  {
   "cell_type": "code",
   "execution_count": 34,
   "metadata": {},
   "outputs": [],
   "source": [
    "savetofile(Train_BOW_X,\"Tr_BOW_X.pickle\")\n",
    "savetofile(Test_BOW_X,\"Te_BOW_X.pickle\")"
   ]
  },
  {
   "cell_type": "markdown",
   "metadata": {},
   "source": [
    "Finding the best 'alpha' using maximum f1 score:"
   ]
  },
  {
   "cell_type": "code",
   "execution_count": 35,
   "metadata": {},
   "outputs": [
    {
     "name": "stdout",
     "output_type": "stream",
     "text": [
      "list of f1 score value for given alpha values: [0.89263220110452335, 0.89422044503683951, 0.901311481543844, 0.90276006900172501, 0.90362577493894425, 0.90353250657647488, 0.90315548121558376, 0.90296389572800573, 0.90241197150000929, 0.90223358652327601, 0.90148580026330638]\n",
      "maximum f1 score value 0.903625774939\n",
      "best alpha index value: 4\n",
      "best alpha value: 0.01\n"
     ]
    }
   ],
   "source": [
    "#Using minimum false positive values to find best alpha\n",
    "from sklearn.naive_bayes import MultinomialNB\n",
    "from sklearn.metrics import f1_score\n",
    "alpha=[1,0.5,0.1,0.05,0.01,0.005,0.001,0.0005,0.0001,0.00005,0.00001]\n",
    "f1_score_=[]\n",
    "#finding the f1_score values for the taken alpha values\n",
    "for i in alpha:\n",
    "   nb = MultinomialNB(alpha=i) \n",
    "   nb.fit(Train_BOW_X, Y_train)\n",
    "   predict=nb.predict(Test_BOW_X)\n",
    "   k= f1_score(Y_test,predict)\n",
    "   f1_score_.append(k)\n",
    "print(\"list of f1 score value for given alpha values:\",f1_score_)\n",
    "#finding the index of maximum f1 score value which is the index of best alpha\n",
    "print(\"maximum f1 score value\",max(f1_score_))\n",
    "a=f1_score_.index(max(f1_score_)) \n",
    "print(\"best alpha index value:\",a)\n",
    "best_alpha=alpha[a]\n",
    "print(\"best alpha value:\",best_alpha)"
   ]
  },
  {
   "cell_type": "code",
   "execution_count": 36,
   "metadata": {},
   "outputs": [
    {
     "data": {
      "image/png": "[encoded data removed]",
      "text/plain": [
       "<Figure size 432x288 with 1 Axes>"
      ]
     },
     "metadata": {},
     "output_type": "display_data"
    }
   ],
   "source": [
    "#ploting the graph between alpha values and f1 score\n",
    "alpha=[1,0.5,0.1,0.05,0.01,0.005,0.001,0.0005,0.0001,0.00005,0.00001]\n",
    "sns.set_style(\"darkgrid\")\n",
    "plt.plot(alpha,f1_score_)\n",
    "plt.xlabel(\"alpha\")\n",
    "plt.ylabel(\"f1 score\")\n",
    "plt.title(\"f1 score for different alpha values on uni_gram\")\n",
    "plt.show()"
   ]
  },
  {
   "cell_type": "code",
   "execution_count": 37,
   "metadata": {},
   "outputs": [
    {
     "name": "stdout",
     "output_type": "stream",
     "text": [
      "Accuracy on test set: 82.900%\n",
      "Precision on test set: 0.828\n",
      "Recall on test set: 0.995\n",
      "F1-Score on test set: 0.904\n",
      "Confusion Matrix of test set:\n",
      " [ [TN  FP]\n",
      " [FN TP] ]\n",
      "\n"
     ]
    },
    {
     "data": {
      "text/plain": [
       "<matplotlib.axes._subplots.AxesSubplot at 0x286958b9fd0>"
      ]
     },
     "execution_count": 37,
     "metadata": {},
     "output_type": "execute_result"
    },
    {
     "data": {
      "image/png": "[encoded data removed]",
      "text/plain": [
       "<Figure size 432x288 with 2 Axes>"
      ]
     },
     "metadata": {},
     "output_type": "display_data"
    }
   ],
   "source": [
    "#Using the best alpha to find the accuracy,precision,recall,f1 score.\n",
    "import pandas as pd\n",
    "from sklearn.metrics import accuracy_score\n",
    "from sklearn.metrics import confusion_matrix\n",
    "from sklearn.metrics import precision_score\n",
    "from sklearn.metrics import recall_score\n",
    "from sklearn.metrics import f1_score\n",
    "#Testing Accuracy on Test data with alpha value 0.01\n",
    "from sklearn.naive_bayes import MultinomialNB\n",
    "nb = MultinomialNB(alpha=0.01)\n",
    "nb.fit(Train_BOW_X, Y_train)\n",
    "y_pred = nb.predict(Test_BOW_X)\n",
    "print(\"Accuracy on test set: %0.3f%%\"%(accuracy_score(Y_test, y_pred)*100))\n",
    "print(\"Precision on test set: %0.3f\"%(precision_score(Y_test, y_pred)))\n",
    "print(\"Recall on test set: %0.3f\"%(recall_score(Y_test, y_pred)))\n",
    "print(\"F1-Score on test set: %0.3f\"%(f1_score(Y_test, y_pred)))\n",
    "print(\"Confusion Matrix of test set:\\n [ [TN  FP]\\n [FN TP] ]\\n\")\n",
    "df_cm = pd.DataFrame(confusion_matrix(Y_test, y_pred), range(2),range(2))\n",
    "sns.set(font_scale=1.4)#for label size\n",
    "sns.heatmap(df_cm, annot=True,annot_kws={\"size\": 16}, fmt='g')"
   ]
  },
  {
   "cell_type": "code",
   "execution_count": 38,
   "metadata": {},
   "outputs": [
    {
     "name": "stdout",
     "output_type": "stream",
     "text": [
      "\t\t\tPositive\t\t\t\t\t\tNegative\n",
      "________________________________________________________________________________________________\n",
      "\t1\t3456.4506\ttast           \t\t\t\t0\t1017.7215\ttast           \n",
      "\t1\t3402.9917\tgreat          \t\t\t\t0\t908.3068\tlike           \n",
      "\t1\t3292.5174\tlike           \t\t\t\t0\t708.7628\tproduct        \n",
      "\t1\t3178.6701\tgood           \t\t\t\t0\t620.8217\tflavor         \n",
      "\t1\t3130.1245\tlove           \t\t\t\t0\t568.8728\tgood           \n",
      "\t1\t2723.8538\tflavor         \t\t\t\t0\t527.2448\tone            \n",
      "\t1\t2542.8552\tproduct        \t\t\t\t0\t488.4329\twould          \n",
      "\t1\t2494.5435\ttea            \t\t\t\t0\t434.4943\ttri            \n",
      "\t1\t2341.7372\tuse            \t\t\t\t0\t366.5144\tuse            \n",
      "\t1\t2226.0135\tone            \t\t\t\t0\t361.1146\tget            \n"
     ]
    }
   ],
   "source": [
    "#finding the important  positive and negative featues\n",
    "def naive_bayes_important_features_(vectorizer,clf,n=10):\n",
    " feature_names =vectorizer.get_feature_names()\n",
    " coefs_with_neg_fea = sorted(zip(clf.feature_count_[0], feature_names),reverse=True)[:n]\n",
    " coefs_with_pos_fea = sorted(zip(clf.feature_count_[1], feature_names),reverse=True)[:n]\n",
    " top = zip(coefs_with_pos_fea[:n], coefs_with_neg_fea[:n])\n",
    " class_labels = clf.classes_\n",
    " print(\"\\t\\t\\tPositive\\t\\t\\t\\t\\t\\tNegative\")\n",
    " print(\"________________________________________________________________________________________________\")\n",
    " for (coef_1, fn_1), (coef_2, fn_2) in top:\n",
    "        print(\"\\t%d\\t%.4f\\t%-15s\\t\\t\\t\\t%d\\t%.4f\\t%-15s\" % (class_labels[1],coef_1, fn_1, class_labels[0],coef_2, fn_2)) \n",
    "        \n",
    "naive_bayes_important_features_(count_vect,nb,n=10)\n",
    "        "
   ]
  },
  {
   "cell_type": "markdown",
   "metadata": {},
   "source": [
    "# 2.Tfidf:"
   ]
  },
  {
   "cell_type": "code",
   "execution_count": 39,
   "metadata": {},
   "outputs": [],
   "source": [
    "#TFIDF:\n",
    "from sklearn.feature_extraction.text import TfidfVectorizer\n",
    "tfidf = TfidfVectorizer()\n",
    "#vectorizing the train data,cross validate data and test data.\n",
    "tfidf1 = tfidf.fit_transform(X_train)\n",
    "tfidf2 = tfidf.transform(X_test)\n",
    "#preprocessing the train data,cross validate data and test data.\n",
    "from sklearn import preprocessing\n",
    "Train_TFIDF_X = preprocessing.normalize(tfidf1)\n",
    "Test_TFIDF_X = preprocessing.normalize(tfidf2)"
   ]
  },
  {
   "cell_type": "code",
   "execution_count": 40,
   "metadata": {},
   "outputs": [],
   "source": [
    "savetofile(Train_TFIDF_X,\"Tr_TFIDF_X.pickle\")\n",
    "savetofile(Test_TFIDF_X,\"Te_TFIDF_X.pickle\")"
   ]
  },
  {
   "cell_type": "markdown",
   "metadata": {},
   "source": [
    "Finding the best 'alpha' using maximum f1 score value:"
   ]
  },
  {
   "cell_type": "code",
   "execution_count": 41,
   "metadata": {},
   "outputs": [
    {
     "name": "stdout",
     "output_type": "stream",
     "text": [
      "list of f1 score for given alpha values: [0.89345490188825805, 0.89671195702682105, 0.90439500405026096, 0.90574452003023442, 0.90473394078311764, 0.90407169518179575, 0.90326249739341435, 0.90306925249767767, 0.90238027501185392, 0.90213040426460267, 0.90169440069825235]\n",
      "maximum f1 score value 0.90574452003\n",
      "best alpha index value: 3\n",
      "best alpha value: 0.05\n"
     ]
    }
   ],
   "source": [
    "#Using minimum false positive values to find best alpha\n",
    "from sklearn.naive_bayes import MultinomialNB\n",
    "from sklearn.metrics import f1_score\n",
    "alpha=[1,0.5,0.1,0.05,0.01,0.005,0.001,0.0005,0.0001,0.00005,0.00001]\n",
    "f1_score_=[]\n",
    "#finding the f1_score values for the taken alpha values\n",
    "for i in alpha:\n",
    "   nb = MultinomialNB(alpha=i) \n",
    "   nb.fit(Train_TFIDF_X, Y_train)\n",
    "   predict=nb.predict(Test_TFIDF_X)\n",
    "   k= f1_score(Y_test,predict)\n",
    "   f1_score_.append(k)\n",
    "print(\"list of f1 score for given alpha values:\",f1_score_)\n",
    "#finding the index of maximum f1 score value which is the index of best alpha\n",
    "print(\"maximum f1 score value\",max(f1_score_))\n",
    "a=f1_score_.index(max(f1_score_)) \n",
    "print(\"best alpha index value:\",a)\n",
    "best_alpha=alpha[a]\n",
    "print(\"best alpha value:\",best_alpha)"
   ]
  },
  {
   "cell_type": "code",
   "execution_count": 42,
   "metadata": {},
   "outputs": [
    {
     "data": {
      "image/png": "[encoded data removed]",
      "text/plain": [
       "<Figure size 432x288 with 1 Axes>"
      ]
     },
     "metadata": {},
     "output_type": "display_data"
    }
   ],
   "source": [
    "#ploting the graph between alpha values and f1 score\n",
    "alpha=[1,0.5,0.1,0.05,0.01,0.005,0.001,0.0005,0.0001,0.00005,0.00001]\n",
    "sns.set_style(\"darkgrid\")\n",
    "plt.plot(alpha,f1_score_)\n",
    "plt.xlabel(\"alpha\")\n",
    "plt.ylabel(\"f1 score\")\n",
    "plt.title(\"f1 score for different alpha values on uni_gram\")\n",
    "plt.show()"
   ]
  },
  {
   "cell_type": "code",
   "execution_count": 43,
   "metadata": {},
   "outputs": [
    {
     "name": "stdout",
     "output_type": "stream",
     "text": [
      "Accuracy on test set: 83.373%\n",
      "Precision on test set: 0.834\n",
      "Recall on test set: 0.992\n",
      "F1-Score on test set: 0.906\n",
      "Confusion Matrix of test set:\n",
      " [ [TN  FP]\n",
      " [FN TP] ]\n",
      "\n"
     ]
    },
    {
     "data": {
      "text/plain": [
       "<matplotlib.axes._subplots.AxesSubplot at 0x286965f51d0>"
      ]
     },
     "execution_count": 43,
     "metadata": {},
     "output_type": "execute_result"
    },
    {
     "data": {
      "image/png": "[encoded data removed]",
      "text/plain": [
       "<Figure size 432x288 with 2 Axes>"
      ]
     },
     "metadata": {},
     "output_type": "display_data"
    }
   ],
   "source": [
    "#Using the best alpha to find the accuracy,precision,recall,f1 score.\n",
    "from sklearn.metrics import accuracy_score\n",
    "from sklearn.metrics import confusion_matrix\n",
    "from sklearn.metrics import precision_score\n",
    "from sklearn.metrics import recall_score\n",
    "from sklearn.metrics import f1_score\n",
    "#Testing Accuracy on Test data with alpha value of 0.05\n",
    "from sklearn.naive_bayes import MultinomialNB\n",
    "nb = MultinomialNB(alpha=0.05)\n",
    "nb.fit(Train_TFIDF_X, Y_train)\n",
    "y_pred = nb.predict(Test_TFIDF_X)\n",
    "print(\"Accuracy on test set: %0.3f%%\"%(accuracy_score(Y_test, y_pred)*100))\n",
    "print(\"Precision on test set: %0.3f\"%(precision_score(Y_test, y_pred)))\n",
    "print(\"Recall on test set: %0.3f\"%(recall_score(Y_test, y_pred)))\n",
    "print(\"F1-Score on test set: %0.3f\"%(f1_score(Y_test, y_pred)))\n",
    "print(\"Confusion Matrix of test set:\\n [ [TN  FP]\\n [FN TP] ]\\n\")\n",
    "df_cm = pd.DataFrame(confusion_matrix(Y_test, y_pred), range(2),range(2))\n",
    "sns.set(font_scale=1.4)#for label size\n",
    "sns.heatmap(df_cm, annot=True,annot_kws={\"size\": 16}, fmt='g')"
   ]
  },
  {
   "cell_type": "code",
   "execution_count": 44,
   "metadata": {},
   "outputs": [
    {
     "name": "stdout",
     "output_type": "stream",
     "text": [
      "\t\t\tPositive\t\t\t\t\t\tNegative\n",
      "________________________________________________________________________________________________\n",
      "\t1\t1769.6222\ttea            \t\t\t\t0\t462.8113\ttast           \n",
      "\t1\t1754.0987\tgreat          \t\t\t\t0\t418.9595\tlike           \n",
      "\t1\t1621.1198\tlove           \t\t\t\t0\t360.4168\tproduct        \n",
      "\t1\t1594.2615\ttast           \t\t\t\t0\t317.5376\tflavor         \n",
      "\t1\t1573.3233\tgood           \t\t\t\t0\t294.8088\twould          \n",
      "\t1\t1526.1204\tlike           \t\t\t\t0\t273.8242\tgood           \n",
      "\t1\t1413.1666\tflavor         \t\t\t\t0\t268.6787\tone            \n",
      "\t1\t1354.7547\tproduct        \t\t\t\t0\t248.5977\ttea            \n",
      "\t1\t1246.7588\tuse            \t\t\t\t0\t230.0386\ttri            \n",
      "\t1\t1164.9163\tone            \t\t\t\t0\t218.7228\tcoffe          \n"
     ]
    }
   ],
   "source": [
    "#finding the important  positive and negative featues\n",
    "def naive_bayes_important_features_(vectorizer,clf,n=10):\n",
    " feature_names =vectorizer.get_feature_names()\n",
    " coefs_with_neg_fea = sorted(zip(clf.feature_count_[0], feature_names),reverse=True)[:n]\n",
    " coefs_with_pos_fea = sorted(zip(clf.feature_count_[1], feature_names),reverse=True)[:n]\n",
    " top = zip(coefs_with_pos_fea[:n], coefs_with_neg_fea[:n])\n",
    " class_labels = clf.classes_\n",
    " print(\"\\t\\t\\tPositive\\t\\t\\t\\t\\t\\tNegative\")\n",
    " print(\"________________________________________________________________________________________________\")\n",
    " for (coef_1, fn_1), (coef_2, fn_2) in top:\n",
    "        print(\"\\t%d\\t%.4f\\t%-15s\\t\\t\\t\\t%d\\t%.4f\\t%-15s\" % (class_labels[1],coef_1, fn_1, class_labels[0],coef_2, fn_2)) \n",
    "        \n",
    "naive_bayes_important_features_(tfidf,nb,n=10)"
   ]
  },
  {
   "cell_type": "markdown",
   "metadata": {},
   "source": [
    "**Naive-Bayes with different text classification:**\n",
    "\n",
    "|          |sample size|Optimal_alpha|Test accuracy |precision     |recall        |f1-score    |                         \n",
    "|----------|-----------|-------------|--------------|--------------|--------------|------------| \n",
    "|          |           |             |              |              |              |            |\n",
    "|BOW       | 100k      |   0.01      |   82.90%     |    0.828     |    0.995     |  0.904     |\n",
    "|TF-IDF    | 100k      |   0.05      |   83.37%     |    0.834     |    0.992     |  0.906     |\n",
    "\n",
    "**Observation:**\n",
    "              By comparing above table, for our data TFIDF with Naive-bayes is working better.\n",
    "    "
   ]
  },
  {
   "cell_type": "markdown",
   "metadata": {},
   "source": [
    "Step by step procedure:\n",
    "\n",
    "    1.Firstly 100k rows were taken and splitted into 70:30 as 70k rows for train data and 30k rows for test data.    \n",
    "    2.Then converted these train and test data into vectors by using Bag of words and Tfidf.\n",
    "    3.Now applied multinomial naive bayes for the trained data to find the optimum alpha value.\n",
    "    4.This is done with finding the maximum f1 score value.\n",
    "    5.Using the obtained alpha value trained data is again trained and then test data is used to find the metrics.\n",
    "    6.Later used the vectorizer and classifier to find the important features "
   ]
  }
 ],
 "metadata": {
  "kernelspec": {
   "display_name": "Python 3",
   "language": "python",
   "name": "python3"
  },
  "language_info": {
   "codemirror_mode": {
    "name": "ipython",
    "version": 3
   },
   "file_extension": ".py",
   "mimetype": "text/x-python",
   "name": "python",
   "nbconvert_exporter": "python",
   "pygments_lexer": "ipython3",
   "version": "3.6.5"
  }
 },
 "nbformat": 4,
 "nbformat_minor": 2
}
